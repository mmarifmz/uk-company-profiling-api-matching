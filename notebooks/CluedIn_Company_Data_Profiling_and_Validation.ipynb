{
 "cells": [
  {
   "cell_type": "markdown",
   "id": "162683cf",
   "metadata": {},
   "source": [
    "# Arif Zamri - Inscale Data Engineer Task Based Test Submission\n",
    "\n",
    "This notebook demonstrates an end-to-end data engineering solution designed to process, validate, and enrich a dataset of UK companies. The core business objective is to ensure data quality, deduplicate records, verify company legitimacy through external APIs, and prepare the dataset for downstream analytics or reporting.\n",
    "\n",
    "### Business Use Case:\n",
    "Organizations often receive bulk company data from multiple sources, which can be inconsistent, incomplete, or outdated. This notebook solves the following key challenges:\n",
    "\n",
    "- 🧹 Cleansing messy or missing records\n",
    "- 🔁 Identifying and removing duplicate company entries\n",
    "- 🔍 Verifying company details via Companies House API (UK government registry)\n",
    "- 🧠 Enriching and tagging data to increase business value\n",
    "- 📊 Visualizing processing impact for transparency\n",
    "- 📝 Preparing clean, validated output ready for reporting or integration\n",
    "\n",
    "Made in month of June 2025  \n",
    "Note for other developer :  \n",
    "The notebook is modular and reusable: simply replace the `Company.csv` file and rerun all cells for fresh validation.\n"
   ]
  },
  {
   "cell_type": "markdown",
   "id": "8f7bf0f0-ddf9-46b0-a6cd-b6529f508ba1",
   "metadata": {},
   "source": [
    "## 1. Data Collection\n",
    "Load the `Company.csv` file and inspect the structure."
   ]
  },
  {
   "cell_type": "code",
   "execution_count": 1,
   "id": "e9f52873",
   "metadata": {},
   "outputs": [
    {
     "name": "stdout",
     "output_type": "stream",
     "text": [
      "Total records: 307\n",
      "<class 'pandas.core.frame.DataFrame'>\n",
      "RangeIndex: 307 entries, 0 to 306\n",
      "Data columns (total 55 columns):\n",
      " #   Column                              Non-Null Count  Dtype  \n",
      "---  ------                              --------------  -----  \n",
      " 0   CompanyName                         307 non-null    object \n",
      " 1   CompanyNumber                       306 non-null    object \n",
      " 2   RegAddress.CareOf                   2 non-null      object \n",
      " 3   RegAddress.POBox                    5 non-null      object \n",
      " 4   RegAddress.AddressLine1             307 non-null    object \n",
      " 5   RegAddress.AddressLine2             191 non-null    object \n",
      " 6   RegAddress.PostTown                 254 non-null    object \n",
      " 7   RegAddress.County                   108 non-null    object \n",
      " 8   RegAddress.Country                  248 non-null    object \n",
      " 9   RegAddress.PostCode                 304 non-null    object \n",
      " 10  CompanyCategory                     306 non-null    object \n",
      " 11  CompanyStatus                       306 non-null    object \n",
      " 12  CountryOfOrigin                     305 non-null    object \n",
      " 13  DissolutionDate                     2 non-null      object \n",
      " 14  IncorporationDate                   305 non-null    object \n",
      " 15  Accounts.AccountRefDay              301 non-null    float64\n",
      " 16  Accounts.AccountRefMonth            302 non-null    object \n",
      " 17  Accounts.NextDueDate                300 non-null    object \n",
      " 18  Accounts.LastMadeUpDate             222 non-null    object \n",
      " 19  Accounts.AccountCategory            306 non-null    object \n",
      " 20  Returns.NextDueDate                 299 non-null    object \n",
      " 21  Returns.LastMadeUpDate              101 non-null    object \n",
      " 22  Mortgages.NumMortCharges            305 non-null    float64\n",
      " 23  Mortgages.NumMortOutstanding        305 non-null    float64\n",
      " 24  Mortgages.NumMortPartSatisfied      306 non-null    float64\n",
      " 25  Mortgages.NumMortSatisfied          306 non-null    object \n",
      " 26  SICCode.SicText_1                   305 non-null    object \n",
      " 27  SICCode.SicText_2                   47 non-null     object \n",
      " 28  SICCode.SicText_3                   22 non-null     object \n",
      " 29  SICCode.SicText_4                   13 non-null     object \n",
      " 30  LimitedPartnerships.NumGenPartners  305 non-null    object \n",
      " 31  LimitedPartnerships.NumLimPartners  304 non-null    float64\n",
      " 32  URI                                 304 non-null    object \n",
      " 33  PreviousName_1.CONDATE              30 non-null     object \n",
      " 34  PreviousName_1.CompanyName          30 non-null     object \n",
      " 35  PreviousName_2.CONDATE              9 non-null      object \n",
      " 36  PreviousName_2.CompanyName          9 non-null      object \n",
      " 37  PreviousName_3.CONDATE              0 non-null      float64\n",
      " 38  PreviousName_3.CompanyName          0 non-null      float64\n",
      " 39  PreviousName_4.CONDATE              0 non-null      float64\n",
      " 40  PreviousName_4.CompanyName          0 non-null      float64\n",
      " 41  PreviousName_5.CONDATE              0 non-null      float64\n",
      " 42  PreviousName_5.CompanyName          0 non-null      float64\n",
      " 43  PreviousName_6.CONDATE              0 non-null      float64\n",
      " 44  PreviousName_6.CompanyName          0 non-null      float64\n",
      " 45  PreviousName_7.CONDATE              0 non-null      float64\n",
      " 46  PreviousName_7.CompanyName          0 non-null      float64\n",
      " 47  PreviousName_8.CONDATE              1 non-null      object \n",
      " 48  PreviousName_8.CompanyName          0 non-null      float64\n",
      " 49  PreviousName_9.CONDATE              0 non-null      float64\n",
      " 50  PreviousName_9.CompanyName          0 non-null      float64\n",
      " 51  PreviousName_10.CONDATE             1 non-null      object \n",
      " 52  PreviousName_10.CompanyName         1 non-null      object \n",
      " 53  ConfStmtNextDueDate                 303 non-null    object \n",
      " 54  ConfStmtLastMadeUpDate              239 non-null    object \n",
      "dtypes: float64(18), object(37)\n",
      "memory usage: 132.0+ KB\n"
     ]
    }
   ],
   "source": [
    "import pandas as pd\n",
    "\n",
    "# Load data\n",
    "df_raw = pd.read_csv(\"../data/Company.csv\")\n",
    "df_raw.columns = df_raw.columns.str.strip()  # Strip column names\n",
    "print(f\"Total records: {len(df_raw)}\")\n",
    "df_raw.info()"
   ]
  },
  {
   "cell_type": "markdown",
   "id": "aaa0f539",
   "metadata": {},
   "source": [
    "## 2. Profiling\n",
    "Basic data profiling to understand data types, nulls, and structure."
   ]
  },
  {
   "cell_type": "code",
   "execution_count": 2,
   "id": "d1d7f389",
   "metadata": {},
   "outputs": [
    {
     "data": {
      "text/html": [
       "<div>\n",
       "<style scoped>\n",
       "    .dataframe tbody tr th:only-of-type {\n",
       "        vertical-align: middle;\n",
       "    }\n",
       "\n",
       "    .dataframe tbody tr th {\n",
       "        vertical-align: top;\n",
       "    }\n",
       "\n",
       "    .dataframe thead th {\n",
       "        text-align: right;\n",
       "    }\n",
       "</style>\n",
       "<table border=\"1\" class=\"dataframe\">\n",
       "  <thead>\n",
       "    <tr style=\"text-align: right;\">\n",
       "      <th></th>\n",
       "      <th>CompanyName</th>\n",
       "      <th>CompanyNumber</th>\n",
       "      <th>RegAddress.CareOf</th>\n",
       "      <th>RegAddress.POBox</th>\n",
       "      <th>RegAddress.AddressLine1</th>\n",
       "      <th>RegAddress.AddressLine2</th>\n",
       "      <th>RegAddress.PostTown</th>\n",
       "      <th>RegAddress.County</th>\n",
       "      <th>RegAddress.Country</th>\n",
       "      <th>RegAddress.PostCode</th>\n",
       "      <th>...</th>\n",
       "      <th>PreviousName_7.CONDATE</th>\n",
       "      <th>PreviousName_7.CompanyName</th>\n",
       "      <th>PreviousName_8.CONDATE</th>\n",
       "      <th>PreviousName_8.CompanyName</th>\n",
       "      <th>PreviousName_9.CONDATE</th>\n",
       "      <th>PreviousName_9.CompanyName</th>\n",
       "      <th>PreviousName_10.CONDATE</th>\n",
       "      <th>PreviousName_10.CompanyName</th>\n",
       "      <th>ConfStmtNextDueDate</th>\n",
       "      <th>ConfStmtLastMadeUpDate</th>\n",
       "    </tr>\n",
       "  </thead>\n",
       "  <tbody>\n",
       "    <tr>\n",
       "      <th>count</th>\n",
       "      <td>307</td>\n",
       "      <td>306</td>\n",
       "      <td>2</td>\n",
       "      <td>5</td>\n",
       "      <td>307</td>\n",
       "      <td>191</td>\n",
       "      <td>254</td>\n",
       "      <td>108</td>\n",
       "      <td>248</td>\n",
       "      <td>304</td>\n",
       "      <td>...</td>\n",
       "      <td>0.0</td>\n",
       "      <td>0.0</td>\n",
       "      <td>1</td>\n",
       "      <td>0.0</td>\n",
       "      <td>0.0</td>\n",
       "      <td>0.0</td>\n",
       "      <td>1</td>\n",
       "      <td>1</td>\n",
       "      <td>303</td>\n",
       "      <td>239</td>\n",
       "    </tr>\n",
       "    <tr>\n",
       "      <th>unique</th>\n",
       "      <td>300</td>\n",
       "      <td>290</td>\n",
       "      <td>2</td>\n",
       "      <td>2</td>\n",
       "      <td>264</td>\n",
       "      <td>156</td>\n",
       "      <td>168</td>\n",
       "      <td>48</td>\n",
       "      <td>12</td>\n",
       "      <td>242</td>\n",
       "      <td>...</td>\n",
       "      <td>NaN</td>\n",
       "      <td>NaN</td>\n",
       "      <td>1</td>\n",
       "      <td>NaN</td>\n",
       "      <td>NaN</td>\n",
       "      <td>NaN</td>\n",
       "      <td>1</td>\n",
       "      <td>1</td>\n",
       "      <td>224</td>\n",
       "      <td>180</td>\n",
       "    </tr>\n",
       "    <tr>\n",
       "      <th>top</th>\n",
       "      <td>BULLEN INVESTMENTS LIMITED</td>\n",
       "      <td>06590854</td>\n",
       "      <td>GW COX &amp; CO</td>\n",
       "      <td>4385</td>\n",
       "      <td>9-11 DRAYTON HIGH ROAD</td>\n",
       "      <td>DRAYTON</td>\n",
       "      <td>NORWICH</td>\n",
       "      <td>NORFOLK</td>\n",
       "      <td>ENGLAND</td>\n",
       "      <td>NR8 6HA</td>\n",
       "      <td>...</td>\n",
       "      <td>NaN</td>\n",
       "      <td>NaN</td>\n",
       "      <td>19/02/2017</td>\n",
       "      <td>NaN</td>\n",
       "      <td>NaN</td>\n",
       "      <td>NaN</td>\n",
       "      <td>37/05/3035</td>\n",
       "      <td>13/05/3034</td>\n",
       "      <td>22/11/2024</td>\n",
       "      <td>27/01/2024</td>\n",
       "    </tr>\n",
       "    <tr>\n",
       "      <th>freq</th>\n",
       "      <td>2</td>\n",
       "      <td>2</td>\n",
       "      <td>1</td>\n",
       "      <td>4</td>\n",
       "      <td>4</td>\n",
       "      <td>11</td>\n",
       "      <td>16</td>\n",
       "      <td>14</td>\n",
       "      <td>138</td>\n",
       "      <td>6</td>\n",
       "      <td>...</td>\n",
       "      <td>NaN</td>\n",
       "      <td>NaN</td>\n",
       "      <td>1</td>\n",
       "      <td>NaN</td>\n",
       "      <td>NaN</td>\n",
       "      <td>NaN</td>\n",
       "      <td>1</td>\n",
       "      <td>1</td>\n",
       "      <td>4</td>\n",
       "      <td>3</td>\n",
       "    </tr>\n",
       "    <tr>\n",
       "      <th>mean</th>\n",
       "      <td>NaN</td>\n",
       "      <td>NaN</td>\n",
       "      <td>NaN</td>\n",
       "      <td>NaN</td>\n",
       "      <td>NaN</td>\n",
       "      <td>NaN</td>\n",
       "      <td>NaN</td>\n",
       "      <td>NaN</td>\n",
       "      <td>NaN</td>\n",
       "      <td>NaN</td>\n",
       "      <td>...</td>\n",
       "      <td>NaN</td>\n",
       "      <td>NaN</td>\n",
       "      <td>NaN</td>\n",
       "      <td>NaN</td>\n",
       "      <td>NaN</td>\n",
       "      <td>NaN</td>\n",
       "      <td>NaN</td>\n",
       "      <td>NaN</td>\n",
       "      <td>NaN</td>\n",
       "      <td>NaN</td>\n",
       "    </tr>\n",
       "  </tbody>\n",
       "</table>\n",
       "<p>5 rows × 55 columns</p>\n",
       "</div>"
      ],
      "text/plain": [
       "                       CompanyName CompanyNumber RegAddress.CareOf  \\\n",
       "count                          307           306                 2   \n",
       "unique                         300           290                 2   \n",
       "top     BULLEN INVESTMENTS LIMITED      06590854       GW COX & CO   \n",
       "freq                             2             2                 1   \n",
       "mean                           NaN           NaN               NaN   \n",
       "\n",
       "       RegAddress.POBox RegAddress.AddressLine1 RegAddress.AddressLine2  \\\n",
       "count                 5                     307                     191   \n",
       "unique                2                     264                     156   \n",
       "top                4385  9-11 DRAYTON HIGH ROAD                 DRAYTON   \n",
       "freq                  4                       4                      11   \n",
       "mean                NaN                     NaN                     NaN   \n",
       "\n",
       "       RegAddress.PostTown RegAddress.County RegAddress.Country  \\\n",
       "count                  254               108                248   \n",
       "unique                 168                48                 12   \n",
       "top                NORWICH           NORFOLK            ENGLAND   \n",
       "freq                    16                14                138   \n",
       "mean                   NaN               NaN                NaN   \n",
       "\n",
       "       RegAddress.PostCode  ... PreviousName_7.CONDATE  \\\n",
       "count                  304  ...                    0.0   \n",
       "unique                 242  ...                    NaN   \n",
       "top                NR8 6HA  ...                    NaN   \n",
       "freq                     6  ...                    NaN   \n",
       "mean                   NaN  ...                    NaN   \n",
       "\n",
       "       PreviousName_7.CompanyName PreviousName_8.CONDATE  \\\n",
       "count                         0.0                      1   \n",
       "unique                        NaN                      1   \n",
       "top                           NaN             19/02/2017   \n",
       "freq                          NaN                      1   \n",
       "mean                          NaN                    NaN   \n",
       "\n",
       "       PreviousName_8.CompanyName PreviousName_9.CONDATE  \\\n",
       "count                         0.0                    0.0   \n",
       "unique                        NaN                    NaN   \n",
       "top                           NaN                    NaN   \n",
       "freq                          NaN                    NaN   \n",
       "mean                          NaN                    NaN   \n",
       "\n",
       "        PreviousName_9.CompanyName PreviousName_10.CONDATE  \\\n",
       "count                          0.0                       1   \n",
       "unique                         NaN                       1   \n",
       "top                            NaN              37/05/3035   \n",
       "freq                           NaN                       1   \n",
       "mean                           NaN                     NaN   \n",
       "\n",
       "       PreviousName_10.CompanyName ConfStmtNextDueDate ConfStmtLastMadeUpDate  \n",
       "count                            1                 303                    239  \n",
       "unique                           1                 224                    180  \n",
       "top                     13/05/3034          22/11/2024             27/01/2024  \n",
       "freq                             1                   4                      3  \n",
       "mean                           NaN                 NaN                    NaN  \n",
       "\n",
       "[5 rows x 55 columns]"
      ]
     },
     "execution_count": 2,
     "metadata": {},
     "output_type": "execute_result"
    }
   ],
   "source": [
    "df_profile = df_raw.describe(include='all')\n",
    "df_profile.head()"
   ]
  },
  {
   "cell_type": "markdown",
   "id": "1cbffad8",
   "metadata": {},
   "source": [
    "## 3. Cleansing\n",
    "Remove rows with null company names / company number / address"
   ]
  },
  {
   "cell_type": "code",
   "execution_count": 3,
   "id": "ba54e8b9",
   "metadata": {},
   "outputs": [
    {
     "name": "stdout",
     "output_type": "stream",
     "text": [
      "⚠️ Records flagged for cleaning due to missing values:\n",
      "Total flagged: 1\n",
      "\n"
     ]
    },
    {
     "data": {
      "text/html": [
       "<div>\n",
       "<style scoped>\n",
       "    .dataframe tbody tr th:only-of-type {\n",
       "        vertical-align: middle;\n",
       "    }\n",
       "\n",
       "    .dataframe tbody tr th {\n",
       "        vertical-align: top;\n",
       "    }\n",
       "\n",
       "    .dataframe thead th {\n",
       "        text-align: right;\n",
       "    }\n",
       "</style>\n",
       "<table border=\"1\" class=\"dataframe\">\n",
       "  <thead>\n",
       "    <tr style=\"text-align: right;\">\n",
       "      <th></th>\n",
       "      <th>CompanyName</th>\n",
       "      <th>CompanyNumber</th>\n",
       "      <th>RegAddress.AddressLine1</th>\n",
       "    </tr>\n",
       "  </thead>\n",
       "  <tbody>\n",
       "    <tr>\n",
       "      <th>11</th>\n",
       "      <td>SURREY</td>\n",
       "      <td>NaN</td>\n",
       "      <td>Private Limited Company</td>\n",
       "    </tr>\n",
       "  </tbody>\n",
       "</table>\n",
       "</div>"
      ],
      "text/plain": [
       "   CompanyName CompanyNumber  RegAddress.AddressLine1\n",
       "11      SURREY           NaN  Private Limited Company"
      ]
     },
     "metadata": {},
     "output_type": "display_data"
    },
    {
     "name": "stdout",
     "output_type": "stream",
     "text": [
      "✅ Records after cleansing: 306 (dropped 1 rows)\n"
     ]
    }
   ],
   "source": [
    "# Identify rows with missing critical fields\n",
    "df_to_clean = df_raw[\n",
    "    df_raw['CompanyName'].isnull() |\n",
    "    df_raw['RegAddress.AddressLine1'].isnull() |\n",
    "    df_raw['CompanyNumber'].isnull()\n",
    "]\n",
    "\n",
    "# Print summary\n",
    "print(\"⚠️ Records flagged for cleaning due to missing values:\")\n",
    "print(f\"Total flagged: {len(df_to_clean)}\\n\")\n",
    "\n",
    "# Show specific columns for easier inspection\n",
    "display(df_to_clean[['CompanyName', 'CompanyNumber', 'RegAddress.AddressLine1']])\n",
    "\n",
    "# Drop rows with any missing value in critical columns\n",
    "df_cleaned = df_raw.dropna(subset=['CompanyName', 'RegAddress.AddressLine1', 'CompanyNumber']).copy()\n",
    "\n",
    "# Confirmation\n",
    "print(f\"✅ Records after cleansing: {len(df_cleaned)} (dropped {len(df_raw) - len(df_cleaned)} rows)\")"
   ]
  },
  {
   "cell_type": "markdown",
   "id": "83426ab8",
   "metadata": {},
   "source": [
    "## 4. Deduplication\n",
    "Remove duplicated company names."
   ]
  },
  {
   "cell_type": "code",
   "execution_count": 4,
   "id": "3f08ca87",
   "metadata": {},
   "outputs": [
    {
     "name": "stdout",
     "output_type": "stream",
     "text": [
      "🔁 Duplicate CompanyNames found: 14\n"
     ]
    },
    {
     "data": {
      "text/html": [
       "<div>\n",
       "<style scoped>\n",
       "    .dataframe tbody tr th:only-of-type {\n",
       "        vertical-align: middle;\n",
       "    }\n",
       "\n",
       "    .dataframe tbody tr th {\n",
       "        vertical-align: top;\n",
       "    }\n",
       "\n",
       "    .dataframe thead th {\n",
       "        text-align: right;\n",
       "    }\n",
       "</style>\n",
       "<table border=\"1\" class=\"dataframe\">\n",
       "  <thead>\n",
       "    <tr style=\"text-align: right;\">\n",
       "      <th></th>\n",
       "      <th>CompanyName</th>\n",
       "      <th>CompanyNumber</th>\n",
       "    </tr>\n",
       "  </thead>\n",
       "  <tbody>\n",
       "    <tr>\n",
       "      <th>214</th>\n",
       "      <td>AIRLINEN LTD</td>\n",
       "      <td>10141677</td>\n",
       "    </tr>\n",
       "    <tr>\n",
       "      <th>287</th>\n",
       "      <td>AIRLINEN LTD</td>\n",
       "      <td>10141677</td>\n",
       "    </tr>\n",
       "    <tr>\n",
       "      <th>216</th>\n",
       "      <td>AIRLINEPROS NORTHERN EUROPE LTD</td>\n",
       "      <td>12079551</td>\n",
       "    </tr>\n",
       "    <tr>\n",
       "      <th>289</th>\n",
       "      <td>AIRLINEPROS NORTHERN EUROPE LTD</td>\n",
       "      <td>13079551</td>\n",
       "    </tr>\n",
       "    <tr>\n",
       "      <th>217</th>\n",
       "      <td>AIRLINER FOR RENT LTD</td>\n",
       "      <td>11157621</td>\n",
       "    </tr>\n",
       "    <tr>\n",
       "      <th>290</th>\n",
       "      <td>AIRLINER FOR RENT LTD</td>\n",
       "      <td>11157631</td>\n",
       "    </tr>\n",
       "    <tr>\n",
       "      <th>219</th>\n",
       "      <td>AIRLINERS LIVE LTD</td>\n",
       "      <td>14062002</td>\n",
       "    </tr>\n",
       "    <tr>\n",
       "      <th>292</th>\n",
       "      <td>AIRLINERS LIVE LTD</td>\n",
       "      <td>14063003</td>\n",
       "    </tr>\n",
       "    <tr>\n",
       "      <th>229</th>\n",
       "      <td>AIRLINGUA INTERNATIONAL LTD</td>\n",
       "      <td>09084985</td>\n",
       "    </tr>\n",
       "    <tr>\n",
       "      <th>302</th>\n",
       "      <td>AIRLINGUA INTERNATIONAL LTD</td>\n",
       "      <td>09084985</td>\n",
       "    </tr>\n",
       "    <tr>\n",
       "      <th>24</th>\n",
       "      <td>BULLDOG PROPERTIES LTD</td>\n",
       "      <td>13732085</td>\n",
       "    </tr>\n",
       "    <tr>\n",
       "      <th>25</th>\n",
       "      <td>BULLDOG PROPERTIES LTD</td>\n",
       "      <td>12787961</td>\n",
       "    </tr>\n",
       "    <tr>\n",
       "      <th>114</th>\n",
       "      <td>BULLEN INVESTMENTS LIMITED</td>\n",
       "      <td>01845966</td>\n",
       "    </tr>\n",
       "    <tr>\n",
       "      <th>115</th>\n",
       "      <td>BULLEN INVESTMENTS LIMITED</td>\n",
       "      <td>OE028123</td>\n",
       "    </tr>\n",
       "  </tbody>\n",
       "</table>\n",
       "</div>"
      ],
      "text/plain": [
       "                         CompanyName CompanyNumber\n",
       "214                     AIRLINEN LTD      10141677\n",
       "287                     AIRLINEN LTD      10141677\n",
       "216  AIRLINEPROS NORTHERN EUROPE LTD      12079551\n",
       "289  AIRLINEPROS NORTHERN EUROPE LTD      13079551\n",
       "217            AIRLINER FOR RENT LTD      11157621\n",
       "290            AIRLINER FOR RENT LTD      11157631\n",
       "219               AIRLINERS LIVE LTD      14062002\n",
       "292               AIRLINERS LIVE LTD      14063003\n",
       "229      AIRLINGUA INTERNATIONAL LTD      09084985\n",
       "302      AIRLINGUA INTERNATIONAL LTD      09084985\n",
       "24            BULLDOG PROPERTIES LTD      13732085\n",
       "25            BULLDOG PROPERTIES LTD      12787961\n",
       "114       BULLEN INVESTMENTS LIMITED      01845966\n",
       "115       BULLEN INVESTMENTS LIMITED      OE028123"
      ]
     },
     "metadata": {},
     "output_type": "display_data"
    },
    {
     "name": "stdout",
     "output_type": "stream",
     "text": [
      "🔁 Duplicate CompanyNumbers found: 32\n"
     ]
    },
    {
     "data": {
      "text/html": [
       "<div>\n",
       "<style scoped>\n",
       "    .dataframe tbody tr th:only-of-type {\n",
       "        vertical-align: middle;\n",
       "    }\n",
       "\n",
       "    .dataframe tbody tr th {\n",
       "        vertical-align: top;\n",
       "    }\n",
       "\n",
       "    .dataframe thead th {\n",
       "        text-align: right;\n",
       "    }\n",
       "</style>\n",
       "<table border=\"1\" class=\"dataframe\">\n",
       "  <thead>\n",
       "    <tr style=\"text-align: right;\">\n",
       "      <th></th>\n",
       "      <th>CompanyName</th>\n",
       "      <th>CompanyNumber</th>\n",
       "    </tr>\n",
       "  </thead>\n",
       "  <tbody>\n",
       "    <tr>\n",
       "      <th>300</th>\n",
       "      <td>AIRLINE UK - THE ASSOCIATION OF UK AIRLINE LTD</td>\n",
       "      <td>04466066</td>\n",
       "    </tr>\n",
       "    <tr>\n",
       "      <th>227</th>\n",
       "      <td>AIRLINES UK - THE ASSOCIATION OF UK AIRLINES L...</td>\n",
       "      <td>04466066</td>\n",
       "    </tr>\n",
       "    <tr>\n",
       "      <th>230</th>\n",
       "      <td>AIRLINK 4 U LIMITED</td>\n",
       "      <td>05057638</td>\n",
       "    </tr>\n",
       "    <tr>\n",
       "      <th>303</th>\n",
       "      <td>AIRLINKS 4 U LTD</td>\n",
       "      <td>05057638</td>\n",
       "    </tr>\n",
       "    <tr>\n",
       "      <th>51</th>\n",
       "      <td>BULLDOG SKINCARE LIMITED</td>\n",
       "      <td>05717974</td>\n",
       "    </tr>\n",
       "    <tr>\n",
       "      <th>53</th>\n",
       "      <td>BULLDOG SKINCARE</td>\n",
       "      <td>05717974</td>\n",
       "    </tr>\n",
       "    <tr>\n",
       "      <th>306</th>\n",
       "      <td>AIRLINKS HOLIDAYS LTD</td>\n",
       "      <td>06590854</td>\n",
       "    </tr>\n",
       "    <tr>\n",
       "      <th>233</th>\n",
       "      <td>AIRLINK HOLIDAYS LIMITED</td>\n",
       "      <td>06590854</td>\n",
       "    </tr>\n",
       "    <tr>\n",
       "      <th>212</th>\n",
       "      <td>AIRLINE TRAVELS LIMITED</td>\n",
       "      <td>08403564</td>\n",
       "    </tr>\n",
       "    <tr>\n",
       "      <th>285</th>\n",
       "      <td>AIRLINE TRAVELS LTD</td>\n",
       "      <td>08403564</td>\n",
       "    </tr>\n",
       "    <tr>\n",
       "      <th>302</th>\n",
       "      <td>AIRLINGUA INTERNATIONAL LTD</td>\n",
       "      <td>09084985</td>\n",
       "    </tr>\n",
       "    <tr>\n",
       "      <th>229</th>\n",
       "      <td>AIRLINGUA INTERNATIONAL LTD</td>\n",
       "      <td>09084985</td>\n",
       "    </tr>\n",
       "    <tr>\n",
       "      <th>287</th>\n",
       "      <td>AIRLINEN LTD</td>\n",
       "      <td>10141677</td>\n",
       "    </tr>\n",
       "    <tr>\n",
       "      <th>214</th>\n",
       "      <td>AIRLINEN LTD</td>\n",
       "      <td>10141677</td>\n",
       "    </tr>\n",
       "    <tr>\n",
       "      <th>288</th>\n",
       "      <td>AIRLINEPREP LTD</td>\n",
       "      <td>10399598</td>\n",
       "    </tr>\n",
       "    <tr>\n",
       "      <th>215</th>\n",
       "      <td>AIRLINEPREP LIMITED</td>\n",
       "      <td>10399598</td>\n",
       "    </tr>\n",
       "    <tr>\n",
       "      <th>296</th>\n",
       "      <td>AIRLINE MARKET LTD</td>\n",
       "      <td>10899619</td>\n",
       "    </tr>\n",
       "    <tr>\n",
       "      <th>223</th>\n",
       "      <td>AIRLINES MARKET LIMITED</td>\n",
       "      <td>10899619</td>\n",
       "    </tr>\n",
       "    <tr>\n",
       "      <th>228</th>\n",
       "      <td>AIRLINESOLUTIONS LTD</td>\n",
       "      <td>11044170</td>\n",
       "    </tr>\n",
       "    <tr>\n",
       "      <th>301</th>\n",
       "      <td>AIRLINEOLUTIONS LTD</td>\n",
       "      <td>11044170</td>\n",
       "    </tr>\n",
       "    <tr>\n",
       "      <th>286</th>\n",
       "      <td>AIRLINE VENTURES LTD</td>\n",
       "      <td>11044404</td>\n",
       "    </tr>\n",
       "    <tr>\n",
       "      <th>213</th>\n",
       "      <td>AIRLINE VENTURES LIMITED</td>\n",
       "      <td>11044404</td>\n",
       "    </tr>\n",
       "    <tr>\n",
       "      <th>54</th>\n",
       "      <td>BULLDOG SOLUTIONS GRP</td>\n",
       "      <td>13067555</td>\n",
       "    </tr>\n",
       "    <tr>\n",
       "      <th>52</th>\n",
       "      <td>BULLDOG SOLUTIONS GRP LTD</td>\n",
       "      <td>13067555</td>\n",
       "    </tr>\n",
       "    <tr>\n",
       "      <th>221</th>\n",
       "      <td>AIRLINES BAGAGE LTD</td>\n",
       "      <td>15139570</td>\n",
       "    </tr>\n",
       "    <tr>\n",
       "      <th>294</th>\n",
       "      <td>AIRLINE BAGAGE LTD</td>\n",
       "      <td>15139570</td>\n",
       "    </tr>\n",
       "    <tr>\n",
       "      <th>297</th>\n",
       "      <td>AIRLINE PAYMENT SYSTEM LTD</td>\n",
       "      <td>15434683</td>\n",
       "    </tr>\n",
       "    <tr>\n",
       "      <th>224</th>\n",
       "      <td>AIRLINES PAYMENT SYSTEM LTD</td>\n",
       "      <td>15434683</td>\n",
       "    </tr>\n",
       "    <tr>\n",
       "      <th>232</th>\n",
       "      <td>AIRLINK GLOBAL TRAVEL LIMITED</td>\n",
       "      <td>15733939</td>\n",
       "    </tr>\n",
       "    <tr>\n",
       "      <th>305</th>\n",
       "      <td>AIRLINKS GLOBAL TRAVEL LTD</td>\n",
       "      <td>15733939</td>\n",
       "    </tr>\n",
       "    <tr>\n",
       "      <th>291</th>\n",
       "      <td>AIRLINER1 EUROPE LTD</td>\n",
       "      <td>SC464056</td>\n",
       "    </tr>\n",
       "    <tr>\n",
       "      <th>218</th>\n",
       "      <td>AIRLINER1 EUROPE LIMITED</td>\n",
       "      <td>SC464056</td>\n",
       "    </tr>\n",
       "  </tbody>\n",
       "</table>\n",
       "</div>"
      ],
      "text/plain": [
       "                                           CompanyName CompanyNumber\n",
       "300     AIRLINE UK - THE ASSOCIATION OF UK AIRLINE LTD      04466066\n",
       "227  AIRLINES UK - THE ASSOCIATION OF UK AIRLINES L...      04466066\n",
       "230                                AIRLINK 4 U LIMITED      05057638\n",
       "303                                   AIRLINKS 4 U LTD      05057638\n",
       "51                            BULLDOG SKINCARE LIMITED      05717974\n",
       "53                                    BULLDOG SKINCARE      05717974\n",
       "306                              AIRLINKS HOLIDAYS LTD      06590854\n",
       "233                           AIRLINK HOLIDAYS LIMITED      06590854\n",
       "212                            AIRLINE TRAVELS LIMITED      08403564\n",
       "285                                AIRLINE TRAVELS LTD      08403564\n",
       "302                        AIRLINGUA INTERNATIONAL LTD      09084985\n",
       "229                        AIRLINGUA INTERNATIONAL LTD      09084985\n",
       "287                                       AIRLINEN LTD      10141677\n",
       "214                                       AIRLINEN LTD      10141677\n",
       "288                                    AIRLINEPREP LTD      10399598\n",
       "215                                AIRLINEPREP LIMITED      10399598\n",
       "296                                 AIRLINE MARKET LTD      10899619\n",
       "223                            AIRLINES MARKET LIMITED      10899619\n",
       "228                               AIRLINESOLUTIONS LTD      11044170\n",
       "301                                AIRLINEOLUTIONS LTD      11044170\n",
       "286                               AIRLINE VENTURES LTD      11044404\n",
       "213                           AIRLINE VENTURES LIMITED      11044404\n",
       "54                               BULLDOG SOLUTIONS GRP      13067555\n",
       "52                           BULLDOG SOLUTIONS GRP LTD      13067555\n",
       "221                                AIRLINES BAGAGE LTD      15139570\n",
       "294                                 AIRLINE BAGAGE LTD      15139570\n",
       "297                         AIRLINE PAYMENT SYSTEM LTD      15434683\n",
       "224                        AIRLINES PAYMENT SYSTEM LTD      15434683\n",
       "232                      AIRLINK GLOBAL TRAVEL LIMITED      15733939\n",
       "305                         AIRLINKS GLOBAL TRAVEL LTD      15733939\n",
       "291                               AIRLINER1 EUROPE LTD      SC464056\n",
       "218                           AIRLINER1 EUROPE LIMITED      SC464056"
      ]
     },
     "metadata": {},
     "output_type": "display_data"
    },
    {
     "name": "stdout",
     "output_type": "stream",
     "text": [
      "✅ Records after deduplication: 290 (from 306)\n"
     ]
    }
   ],
   "source": [
    "# Check duplicates based on CompanyName\n",
    "dup_name = df_cleaned[df_cleaned.duplicated(subset='CompanyName', keep=False)]\n",
    "print(f\"🔁 Duplicate CompanyNames found: {len(dup_name)}\")\n",
    "display(dup_name[['CompanyName', 'CompanyNumber']].sort_values(by='CompanyName'))\n",
    "\n",
    "# Check duplicates based on CompanyNumber\n",
    "dup_number = df_cleaned[df_cleaned.duplicated(subset='CompanyNumber', keep=False)]\n",
    "print(f\"🔁 Duplicate CompanyNumbers found: {len(dup_number)}\")\n",
    "display(dup_number[['CompanyName', 'CompanyNumber']].sort_values(by='CompanyNumber'))\n",
    "\n",
    "# Drop duplicates based on both fields (CompanyNumber has higher priority)\n",
    "df_deduplicated = df_cleaned.drop_duplicates(subset=['CompanyNumber'])\n",
    "print(f\"✅ Records after deduplication: {len(df_deduplicated)} (from {len(df_cleaned)})\")"
   ]
  },
  {
   "cell_type": "markdown",
   "id": "99655189",
   "metadata": {},
   "source": [
    "## 5. Matching (Companies House API)\n",
    "Check company names against the API and log each query with results"
   ]
  },
  {
   "cell_type": "code",
   "execution_count": 5,
   "id": "6a7ea7d5",
   "metadata": {
    "scrolled": true
   },
   "outputs": [
    {
     "name": "stdout",
     "output_type": "stream",
     "text": [
      "🔎 [CompanyNumber] BULLDOG MINI SKIPS LTD -> BULLDOG MINI SKIPS LTD (15330909)\n",
      "🔎 [CompanyNumber] BULLDOG LIMITED -> BULLDOG MORTLAKE LIMITED (09043007)\n",
      "🔎 [CompanyNumber] BULLDOG MUSHROOMS LTD -> BULLDOG MUSHROOMS LTD (08465312)\n",
      "🔎 [CompanyNumber] BULLDOG MUSICAL ENTERTAINMENTS LIMITED -> BULLDOG MUSICAL ENTERTAINMENTS LIMITED (01652098)\n",
      "🔎 [CompanyNumber] BULLDOG NETWORK (BOURNEMOUTH) LIMITED -> BULLDOG NETWORK (BOURNEMOUTH) LIMITED (04667818)\n",
      "🔎 [CompanyNumber] BULLDOG OFFSHORE SERVICES LIMITED -> BULLDOG OFFSHORE SERVICES LIMITED (04357809)\n",
      "🔎 [CompanyNumber] BULLDOG OUTDOORS LIMITED -> BULLDOG OUTDOORS LIMITED (05583758)\n",
      "🔎 [CompanyNumber] BULLDOG PALLETS & SONS LTD -> BULLDOG PALLETS & SONS LTD (15431666)\n",
      "🔎 [CompanyNumber] BULLDOG PLANT & EQUIPMENT LTD -> BULLDOG PLANT & EQUIPMENT LTD (13302843)\n",
      "🔎 [CompanyNumber] BULLDOG PLANT LTD -> BULLDOG PLANT LTD (13304901)\n",
      "💾 Saved progress after 10 records\n",
      "🔎 [CompanyNumber] BULLDOG PLANTIRE LIMITED -> BULLDOG PLANTIRE LIMITED (01477370)\n",
      "🔎 [CompanyNumber] bulldog plumbing limited -> BULLDOG PLUMBING LIMITED (06336248)\n",
      "🔎 [CompanyNumber] bulldog plumbing services ltd -> BULLDOG PLUMBING SERVICES LTD (14797406)\n",
      "🔎 [CompanyNumber] bulldog political consulting limited -> BULLDOG POLITICAL CONSULTING LIMITED (12741287)\n",
      "🔎 [CompanyNumber] bulldog power ltd -> BULLDOG POWER LTD (08186306)\n",
      "🔎 [CompanyNumber] bulldog practical support ltd -> BULLDOG PRACTICAL SUPPORT LTD (14255557)\n",
      "🔎 [CompanyNumber] bulldog premium growth i limited -> BULLDOG PREMIUM GROWTH I LIMITED (02779155)\n",
      "🔎 [CompanyNumber] bulldog print group ltd -> BULLDOG PRINT GROUP LTD (13377116)\n",
      "🔎 [CompanyNumber] bulldog products installations limited -> BULLDOG PRODUCTS INSTALLATIONS LIMITED (03308221)\n",
      "💾 Saved progress after 20 records\n",
      "🔎 [CompanyNumber] bulldog products limited -> BULLDOG PRODUCTS LIMITED (03151586)\n",
      "🔎 [CompanyNumber] bulldog properties (kent) limited -> BULLDOG PROPERTIES (KENT) LIMITED (07545206)\n",
      "🔎 [CompanyNumber] bulldog properties (yorkshire) ltd -> BULLDOG PROPERTIES (YORKSHIRE) LTD (10884907)\n",
      "🔎 [CompanyNumber] bulldog properties and lettings limited -> BULLDOG PROPERTIES AND LETTINGS LIMITED (13087377)\n",
      "🔎 [CompanyNumber] BULLDOG PROPERTIES LTD -> BULLDOG PROPERTIES FYLDE LTD (13732085)\n",
      "🔎 [CompanyNumber] BULLDOG PROPERTIES LTD -> BULLDOG PROPERTIES LTD (12787961)\n",
      "🔎 [CompanyNumber] BULLDOG PROPERTY INVESTMENTS -> BULLDOG PROPERTY INVESTMENTS LTD (14977826)\n",
      "🔎 [CompanyNumber] BULLDOG PROPERTY SERVICES -> BULLDOG PROPERTY SERVICES LTD (11977850)\n",
      "🔎 [CompanyNumber] BULLDOG PROPERTY SOURCES LTD -> BULLDOG PROPERTY SOURCING LTD (13575772)\n",
      "🔎 [CompanyNumber] BULLDOG PROTECTION SYSTEMS LIMITED -> BULLDOG PROTECTION SYSTEMS LIMITED (04349069)\n",
      "💾 Saved progress after 30 records\n",
      "🔎 [CompanyNumber] BULLDOG PUBLISHING LIMITED -> BULLDOG PUBLISHING LIMITED (03138960)\n",
      "🔎 [CompanyNumber] BULLDOG RECOVERY LTD -> BULLDOG RECOVERY LTD (10986687)\n",
      "🔎 [CompanyNumber] BULLDOG RECRUITMENT LIMITED -> BULLDOG RECRUITMENT LIMITED (10284636)\n",
      "🔎 [CompanyNumber] BULLDOG REMOULDS LIMITED -> BULLDOG REMOULDS LIMITED (00932731)\n",
      "🔎 [CompanyNumber] BULLDOG REMOVALS LTD -> BULLDOG REMOVALS LTD (SC640720)\n",
      "🔎 [CompanyNumber] BULLDOG REPORTING LIMITED -> BULLDOG REPORTING LIMITED (10526596)\n",
      "🔎 [CompanyNumber] BULLDOG RESCUE AND RE-HOMING TRUST -> BULLDOG RESCUE AND RE-HOMING TRUST (05664557)\n",
      "🔎 [CompanyNumber] BULLDOG RESIDENTIAL PROPERTIES LLP -> BULLDOG RESIDENTIAL PROPERTIES LLP (OC445056)\n",
      "🔎 [CompanyNumber] BULLDOG RESOURCING LTD -> BULLDOG RESOURCING LTD (11170931)\n",
      "🔎 [CompanyNumber] BULLDOG RETAIL LTD -> BULLDOG RETAIL LTD (14453012)\n",
      "💾 Saved progress after 40 records\n",
      "🔎 [CompanyNumber] BULLDOG RIGGING SERVICES LTD -> BULLDOG RIGGING SERVICES LTD (13334173)\n",
      "🔎 [CompanyNumber] BULLDOG SALES & CONSULTING LTD -> BULLDOG SALES & CONSULTING LTD (11838768)\n",
      "🔎 [CompanyNumber] BULLDOG SCAFFOLDING (BOSTON) LTD -> BULLDOG SCAFFOLDING (BOSTON) LTD (15600057)\n",
      "🔎 [CompanyNumber] BULLDOG SECURITY LIMITED -> BULLDOG SECURITY LIMITED (07407395)\n",
      "🔎 [CompanyNumber] BULLDOG SECURITY PRODUCTS LIMITED -> BULLDOG SECURITY PRODUCTS LIMITED (01799475)\n",
      "🔎 [CompanyNumber] BULLDOG SELF STORAGE LIMITED -> BULLDOG SELF STORAGE LIMITED (10761396)\n",
      "🔎 [CompanyNumber] BULLDOG SERVICE STATION LIMITED -> BULLDOG SERVICE STATION LIMITED (00631975)\n",
      "🔎 [CompanyNumber] BULLDOG SERVICES GRP LTD -> BULLDOG SERVICES GRP LTD (13067510)\n",
      "🔎 [CompanyNumber] BULLDOG SERVICES LIMITED -> BULLDOG SERVICES LIMITED (15298599)\n",
      "🔎 [CompanyNumber] BULLDOG SHEDS AND FENCING LIMITED -> BULLDOG SHEDS AND FENCING LIMITED (06403796)\n",
      "💾 Saved progress after 50 records\n",
      "🔎 [CompanyNumber] BULLDOG SKINCARE HOLDINGS LIMITED -> BULLDOG SKINCARE HOLDINGS LIMITED (08850582)\n",
      "🔎 [CompanyNumber] BULLDOG SKINCARE LIMITED -> BULLDOG SKINCARE LIMITED (05717974)\n",
      "🔎 [CompanyNumber] BULLDOG SOLUTIONS GRP LTD -> BULLDOG SOLUTIONS GRP LTD (13067555)\n",
      "🔎 [CompanyNumber] BULLDOG SKINCARE -> BULLDOG SKINCARE LIMITED (05717974)\n",
      "🔎 [CompanyNumber] BULLDOG SOLUTIONS GRP -> BULLDOG SOLUTIONS GRP LTD (13067555)\n",
      "🔎 [CompanyNumber] BULLDOG SOLUTIONS LTD. -> BULLDOG SOLUTIONS LTD. (08637142)\n",
      "🔎 [CompanyNumber] BULLDOG SPARX LIMITED -> BULLDOG SPARX LIMITED (12094677)\n",
      "🔎 [CompanyNumber] BULLDOG SPIRIT LIMITED -> BULLDOG SPIRIT LIMITED (15382197)\n",
      "🔎 [CompanyNumber] BULLDOG SPORTS & BRANDING (UK) LTD -> BULLDOG SPORTS & BRANDING (UK) LTD (11653228)\n",
      "🔎 [CompanyNumber] BULLDOG STAFF HIRE LTD -> BULLDOG STAFF HIRE LTD (15273672)\n",
      "💾 Saved progress after 60 records\n",
      "🔎 [CompanyNumber] BULLDOG STEEL FABRICATIONS LIMITED -> BULLDOG STEEL FABRICATIONS LIMITED (03802757)\n",
      "🔎 [CompanyNumber] BULLDOG STORAGE LTD -> BULLDOG STORAGE LTD (11045926)\n",
      "🔎 [CompanyNumber] BULLDOG SUNBEDS LIMITED -> BULLDOG SUNBEDS LIMITED (15556033)\n",
      "🔎 [CompanyNumber] BULLDOG SYSTEMS LTD -> BULLDOG SYSTEMS LTD (13014625)\n",
      "🔎 [CompanyNumber] BULLDOG TAVERN LTD -> BULLDOG TAVERN LTD (15534785)\n",
      "🔎 [CompanyNumber] BULLDOG TECHNOLOGY LTD -> BULLDOG TECHNOLOGY LTD (08876375)\n",
      "🔎 [CompanyNumber] BULLDOG TOOLS (NORTH AMERICA) LTD -> BULLDOG TOOLS (NORTH AMERICA) LTD (10895708)\n",
      "🔎 [CompanyNumber] BULLDOG TOPSIDES LIMITED -> BULLDOG TOPSIDES LIMITED (SC635627)\n",
      "🔎 [CompanyNumber] BULLDOG TOYS LTD -> BULLDOG TOYS LTD (14363887)\n",
      "🔎 [CompanyNumber] BULLDOG TRADING LTD -> BULLDOG TRADING LTD (14071903)\n",
      "💾 Saved progress after 70 records\n",
      "🔎 [CompanyNumber] BULLDOG TRANS LTD -> BULLDOG TRANS LTD (13489189)\n",
      "🔎 [CompanyNumber] BULLDOG TUBE STRAIGHTENING SERVICES LIMITED -> BULLDOG TUBE STRAIGHTENING SERVICES LIMITED (12963208)\n",
      "🔎 [CompanyNumber] BULLDOG TV LIMITED -> BULLDOG TV LIMITED (14850154)\n",
      "🔎 [CompanyNumber] BULLDOG VAPOURS NW LTD -> BULLDOG VAPOURS NW LTD (10621954)\n",
      "🔎 [CompanyNumber] BULLDOG VENTURES LTD -> BULLDOG VENTURES LTD (15589959)\n",
      "🔎 [CompanyNumber] BULLDOG VINTAGE LTD -> BULLDOG VINTAGE LTD (11266336)\n",
      "🔎 [CompanyNumber] BULLDOG XTREME LIMITED -> BULLDOG XTREME LIMITED (NI645522)\n",
      "🔎 [CompanyNumber] BULLDOG-SPORTS LTD -> BULLDOG-SPORTS LTD (SC449962)\n",
      "🔎 [CompanyNumber] BULLDOGAGENCY. LTD -> STRATEGIC MARKETING PARTNERS LTD (13954305)\n",
      "🔎 [CompanyNumber] BULLDOGELEC TRADING LIMITED -> BULLDOGELEC TRADING LIMITED (14887131)\n",
      "💾 Saved progress after 80 records\n",
      "🔎 [CompanyNumber] BULLE & BAER LTD -> BULLE & BAER LTD (07245964)\n",
      "🔎 [CompanyNumber] BULLE TRANSPORT COMPANY LTD -> BULLE TRANSPORT COMPANY LTD (12726585)\n",
      "🔎 [CompanyNumber] BULLEAR RESIDENTS ASSOCIATION LIMITED -> BULLEAR RESIDENTS ASSOCIATION LIMITED (02731165)\n",
      "🔎 [CompanyNumber] BULLEE SECURE TRANSPORT LTD -> BULLEE SECURE TRANSPORT LTD (13914128)\n",
      "🔎 [CompanyNumber] BULLEFX LTD -> BULLEFX LTD (15804108)\n",
      "🔎 [CompanyNumber] BULLEGY LIMITED -> BULLEGY LIMITED (14828239)\n",
      "🔎 [CompanyNumber] BULLEH SHAH AIRCONDITIONING LTD -> BULLEH SHAH AIRCONDITIONING LTD (05477701)\n",
      "🔎 [CompanyNumber] BULLEID SHOP LIMITED -> BULLEID SHOP LIMITED (15342893)\n",
      "🔎 [CompanyNumber] BULLEIGH BARTON COURT MANAGEMENT COMPANY LIMITED -> BULLEIGH BARTON COURT MANAGEMENT COMPANY LIMITED (02614263)\n",
      "🔎 [CompanyNumber] BULLEIGH FABRICATIONS LIMITED -> BULLEIGH FABRICATIONS LIMITED (11520707)\n",
      "💾 Saved progress after 90 records\n",
      "🔎 [CompanyNumber] BULLEN & CO ACCOUNTANTS LIMITED -> BULLEN & CO ACCOUNTANTS LIMITED (08045902)\n",
      "🔎 [CompanyNumber] BULLEN & CO LIMITED -> BULLEN & CO LIMITED (07256790)\n",
      "🔎 [CompanyNumber] BULLEN & SON LIMITED -> BULLEN & SON LIMITED (13581080)\n",
      "🔎 [CompanyNumber] BULLEN 1921 LIMITED -> LOWLANDS GROUP LIMITED (15682855)\n",
      "🔎 [CompanyNumber] BULLEN ARCHITECTURAL LIMITED -> BULLEN ARCHITECTURAL LIMITED (11417744)\n",
      "🔎 [CompanyNumber] BULLEN BROTHERS LIMITED -> BULLEN BROTHERS LIMITED (09527438)\n",
      "🔎 [CompanyNumber] BULLEN CONSERVATION (WALES) LTD -> BULLEN CONSERVATION (WALES) LTD (14380601)\n",
      "🔎 [CompanyNumber] BULLEN CONSERVATION LIMITED -> BULLEN CONSERVATION LIMITED (04938870)\n",
      "🔎 [CompanyNumber] BULLEN CONSTRUCTION LIMITED -> BULLEN CONSTRUCTION LIMITED (13983108)\n",
      "🔎 [CompanyNumber] BULLEN CONSULTANCY LIMITED -> BULLEN CONSULTANCY LIMITED (12340721)\n",
      "💾 Saved progress after 100 records\n",
      "🔎 [CompanyNumber] BULLEN CONSULTANTS LIMITED -> BULLEN CONSULTANTS LIMITED (03340659)\n",
      "🔎 [CompanyNumber] BULLEN DEVELOPMENTS LIMITED -> BULLEN GROUP LIMITED (01005917)\n",
      "🔎 [CompanyNumber] BULLEN DIMOND PROPERTIES LIMITED -> BULLEN DIMOND PROPERTIES LIMITED (13737458)\n",
      "🔎 [CompanyNumber] BULLEN ESTATES COMMERCIAL LTD -> BULLEN ESTATES COMMERCIAL LTD (12432501)\n",
      "🔎 [CompanyNumber] BULLEN ESTATES MANAGEMENT LTD -> BULLEN ESTATES MANAGEMENT LTD (14971223)\n",
      "🔎 [CompanyNumber] BULLEN ESTATES NORFOLK LTD -> BULLEN ESTATES NORFOLK LTD (15272539)\n",
      "🔎 [CompanyNumber] BULLEN ESTATES UK LIMITED -> BULLEN ESTATES UK LIMITED (10758129)\n",
      "🔎 [CompanyNumber] BULLEN FABRICATION LTD -> BULLEN FABRICATION LTD (07590951)\n",
      "🔎 [CompanyNumber] BULLEN GROUP LIMITED -> BULLEN DEVELOPMENTS LIMITED (09903280)\n",
      "🔎 [CompanyNumber] BULLEN HALL FARM LTD -> BULLEN HALL FARM LTD (11809344)\n",
      "💾 Saved progress after 110 records\n",
      "🔎 [CompanyNumber] BULLEN HALL LIMITED -> BULLEN HALL LIMITED (09595925)\n",
      "🔎 [CompanyNumber] BULLEN HOLDINGS LIMITED -> BULLEN 1921 LIMITED (09911779)\n",
      "🔎 [CompanyNumber] BULLEN HOMES LIMITED -> BULLEN HOMES LIMITED (03711778)\n",
      "🔎 [CompanyNumber] BULLEN INTERNATIONAL HEALTHCARE LIMITED -> BULLEN INTERNATIONAL HEALTHCARE LIMITED (03137463)\n",
      "🔎 [CompanyNumber] BULLEN INVESTMENTS LIMITED -> BULLEN INVESTMENTS LIMITED (01845966)\n",
      "🔎 [CompanyNumber] BULLEN INVESTMENTS LIMITED -> BULLEN INVESTMENTS LIMITED (OE028123)\n",
      "🔎 [CompanyNumber] BULLEN LEWIS & PARTNERS LIMITED -> BULLEN LEWIS & PARTNERS LIMITED (06778481)\n",
      "🔎 [CompanyNumber] BULLEN LIMITED -> BULLEN LIMITED (03376955)\n",
      "🔎 [CompanyNumber] BULLEN NO.2 LIMITED -> NORFOLK AND NORWICH PROPERTY COMPANY LIMITED (15682841)\n",
      "🔎 [CompanyNumber] BULLEN PARTNERSHIP -> BULLEN PARTNERSHIP (LP004843)\n",
      "💾 Saved progress after 120 records\n",
      "🔎 [CompanyNumber] BULLEN PLANT HIRE LIMITED -> BULLEN PLANT HIRE LIMITED (01326345)\n",
      "🔎 [CompanyNumber] BULLEN POWER LIMITED -> BULLEN POWER LIMITED (14828753)\n",
      "🔎 [CompanyNumber] BULLEN PROPERTIES LIMITED -> BULLEN PROPERTIES LIMITED (05906065)\n",
      "🔎 [CompanyNumber] BULLEN PROPERTY INVESTMENTS LIMITED -> BULLEN PROPERTY INVESTMENTS LIMITED (11453212)\n",
      "🔎 [CompanyNumber] BULLEN RESIDENTIAL PROPERTIES LIMITED -> BULLEN RESIDENTIAL PROPERTIES LIMITED (03819797)\n",
      "🔎 [CompanyNumber] BULLEN ROOFING LTD -> BULLEN ROOFING LTD (13762399)\n",
      "🔎 [CompanyNumber] BULLEN TRADING CO LTD -> BULLEN TRADING CO LTD (07072244)\n",
      "🔎 [CompanyNumber] BULLEN UND BAEREN STIFTUNG LTD -> BULLEN UND BAEREN STIFTUNG LTD (13515047)\n",
      "🔎 [CompanyNumber] BULLEN VILLAGE MANAGEMENT COMPANY LIMITED -> BULLEN VILLAGE MANAGEMENT COMPANY LIMITED (06259178)\n",
      "🔎 [CompanyNumber] BULLEN-BROWN LIMITED -> BULLEN-BROWN LIMITED (10458091)\n",
      "💾 Saved progress after 130 records\n",
      "🔎 [CompanyNumber] BULLENFIELD LTD -> BULLENFIELD LTD (11008413)\n",
      "🔎 [CompanyNumber] BULLENS AUDIT SERVICES LTD -> BULLENS AUDIT SERVICES LTD (09104884)\n",
      "🔎 [CompanyNumber] BULLENS PROPERTY SERVICES LTD -> BULLENS PROPERTY SERVICES LTD (15583205)\n",
      "🔎 [CompanyNumber] BULLENS RENTALS LIMITED -> BULLENS RENTALS LIMITED (13897996)\n",
      "🔎 [CompanyNumber] BULLENS ROAD LTD -> BULLENS ROAD LTD (13082666)\n",
      "🔎 [CompanyNumber] BULLER & BULLER LTD -> BULLER & BULLER LTD (13549465)\n",
      "🔎 [CompanyNumber] BULLER AUTO SERVICES LIMITED -> BULLER AUTO SERVICES LIMITED (11865996)\n",
      "🔎 [CompanyNumber] BULLER CLOSE OWNERS RTM COMPANY LIMITED -> BULLER CLOSE OWNERS RTM COMPANY LIMITED (12154796)\n",
      "🔎 [CompanyNumber] ARKSTONE GROUP LIMITED -> ARKSTONE GROUP LIMITED (15528905)\n",
      "🔎 [CompanyNumber] ARKSTONE INVESTMENT LIMITED -> ARKSTONE INVESTMENT LIMITED (13556107)\n",
      "💾 Saved progress after 140 records\n",
      "🔎 [CompanyNumber] ARKSTONE LTD -> ARKSTONE LTD (14889916)\n",
      "🔎 [CompanyNumber] ARKSTONE PROPERTY INVESTMENT LTD -> ARKSTONE PROPERTY INVESTMENT LTD (14536308)\n",
      "🔎 [CompanyNumber] ARKSTONE PROPERTY MANAGEMENT LLP -> ARKSTONE PROPERTY MANAGEMENT LLP (OC438695)\n",
      "🔎 [CompanyNumber] ARKSTONE SOLUTIONS LTD -> ARKSTONE SOLUTIONS LTD (10867117)\n",
      "🔎 [CompanyNumber] ARKSTONS CAPITAL LIMITED -> ARKSTONS CAPITAL LIMITED (11848981)\n",
      "🔎 [CompanyNumber] ARKSTONS INVESTMENTS LIMITED -> ARKSTONS INVESTMENTS LIMITED (11015850)\n",
      "🔎 [CompanyNumber] ARKSTORE LIMITED -> ARKSTORE LIMITED (01610928)\n",
      "🔎 [CompanyNumber] ARKSTRADES LTD -> ARKSTRADES LTD (14669679)\n",
      "🔎 [CompanyNumber] ARKSUN PROPERTIES LTD -> ARKSUN PROPERTIES LTD (14205068)\n",
      "🔎 [CompanyNumber] ARKSUPPLYCO. LTD -> ARKSUPPLYCO. LTD (14586803)\n",
      "💾 Saved progress after 150 records\n",
      "🔎 [CompanyNumber] ARKSURE LLP -> ARKSURE LLP (OC314087)\n",
      "🔎 [CompanyNumber] ARKSURVEYS LTD -> ARKSURVEYS LTD (10972958)\n",
      "🔎 [CompanyNumber] ARKT COACHWORKS LTD -> ARKT COACHWORKS LTD (SC642622)\n",
      "🔎 [CompanyNumber] ARKT MARKETING LIMITED -> ARKT MARKETING LIMITED (15154522)\n",
      "🔎 [CompanyNumber] ARKTA GROUP LTD -> ARKTA GROUP LTD (15358276)\n",
      "🔎 [CompanyNumber] ARKTEC LIMITED -> ARKTEC LIMITED (06324544)\n",
      "🔎 [CompanyNumber] ARKTECH (NE) LIMITED -> ARKTECH (NE) LIMITED (06959801)\n",
      "🔎 [CompanyNumber] ARKTECH AV LTD -> ARKTECH AV LTD (12906612)\n",
      "🔎 [CompanyNumber] ARKTECH CONSULTANCY LIMITED -> ARKTECH CONSULTANCY LIMITED (07434608)\n",
      "🔎 [CompanyNumber] ARKTECH CONSULTING LTD -> ARKTECH CONSULTING LTD (08862931)\n",
      "💾 Saved progress after 160 records\n",
      "🔎 [CompanyNumber] ARKTECH ENTERPRISE LIMITED -> ARKTECH ENTERPRISE LIMITED (13744283)\n",
      "🔎 [CompanyNumber] ARKTECH IT SOLUTIONS LTD -> ARKTECH IT SOLUTIONS LTD (13922589)\n",
      "🔎 [CompanyNumber] ARKTECK SOLUTIONS LIMITED -> ARKTECK SOLUTIONS LIMITED (14935944)\n",
      "🔎 [CompanyNumber] ARKVER LTD -> ARKVER LTD (NI611577)\n",
      "🔎 [CompanyNumber] ARKVIEN AI LTD. -> ARKVIEN AI LTD. (13194867)\n",
      "🔎 [CompanyNumber] ARKVIEW LTD -> ARKVIEW LTD (15453527)\n",
      "🔎 [CompanyNumber] ARKVILLE DEVELOPMENTS LTD -> ARKVILLE DEVELOPMENTS LTD (14688105)\n",
      "🔎 [CompanyNumber] ARKVILLE LIMITED -> ARKVILLE LIMITED (13149727)\n",
      "🔎 [CompanyNumber] ARKW LTD -> ARKW LTD (09727136)\n",
      "🔎 [CompanyNumber] ARKWALL LIMITED -> ARKWALL LIMITED (02497479)\n",
      "💾 Saved progress after 170 records\n",
      "🔎 [CompanyNumber] ARKWAY BUILDING AND CONSTRUCTION LTD -> ARKWAY BUILDING AND CONSTRUCTION LTD (11415802)\n",
      "🔎 [CompanyNumber] ARKWAY GROUNDWORKS LTD -> ARKWAY GROUNDWORKS LTD (13432788)\n",
      "🔎 [CompanyNumber] ARKWAY GROUP LTD -> ARKWAY GROUP LTD (15778743)\n",
      "🔎 [CompanyNumber] ARKWAY LIMITED -> ARKWAY LIMITED (13432929)\n",
      "🔎 [CompanyNumber] ARKWAY PLANT HIRE LTD -> ARKWAY PLANT HIRE LTD (15777373)\n",
      "🔎 [CompanyNumber] ARKWELL 3 LILAC LTD -> ARKWELL 3 LILAC LTD (15580331)\n",
      "🔎 [CompanyNumber] ARKWELL CONSULTING LTD -> ARKWELL CONSULTING LTD (14198358)\n",
      "🔎 [CompanyNumber] ARKWELL FASTENERS LIMITED -> ARKWELL FASTENERS LIMITED (01599516)\n",
      "🔎 [CompanyNumber] ARKWELL HOMES LIMITED -> ARKWELL HOMES LIMITED (SC696734)\n",
      "🔎 [CompanyNumber] ARKWELL HOUSE LTD -> ARKWELL HOUSE LTD (11013808)\n",
      "💾 Saved progress after 180 records\n",
      "🔎 [CompanyNumber] ARKWELL PROPERTIES LIMITED -> ARKWELL PROPERTIES LIMITED (OE003727)\n",
      "🔎 [CompanyNumber] ARKWEST LIMITED -> ARKWEST LIMITED (06323770)\n",
      "🔎 [CompanyNumber] ARKWHEEL LIMITED -> ARKWHEEL LIMITED (09047428)\n",
      "🔎 [CompanyNumber] ARKWHITES LTD -> ARKWHITES LTD (15318493)\n",
      "🔎 [CompanyNumber] ARKWOOD DEVELOPMENTS LIMITED -> ARKWOOD DEVELOPMENTS LIMITED (11383915)\n",
      "🔎 [CompanyNumber] ARKWOOD LTD -> ARKWOOD LTD (08294137)\n",
      "🔎 [CompanyNumber] ARKWOOD PROJECTS LTD -> ARKWOOD PROJECTS LTD (07380781)\n",
      "🔎 [CompanyNumber] ARKWOOD PROPERTY GROUP LTD -> ARKWOOD PROPERTY GROUP LTD (12401525)\n",
      "🔎 [CompanyNumber] ARKWORKS BUILDERS LIMITED -> ARKWORKS BUILDERS LIMITED (06783318)\n",
      "🔎 [CompanyNumber] ARKWORLD UK LIMITED -> ARKWORLD UK LIMITED (04852670)\n",
      "💾 Saved progress after 190 records\n",
      "🔎 [CompanyNumber] ARKWRIGHT & CO SW LIMITED -> ARKWRIGHT & CO SW LIMITED (08861924)\n",
      "🔎 [CompanyNumber] ARKWRIGHT INSURANCE BROKERS LIMITED -> ARKWRIGHT INSURANCE BROKERS LIMITED (05479162)\n",
      "🔎 [CompanyNumber] ARKWRIGHT INVESTMENTS LIMITED -> ARKWRIGHT INVESTMENTS LIMITED (01891200)\n",
      "🔎 [CompanyNumber] ARKWRIGHT LAW SOLICITORS LTD -> ARKWRIGHT LAW SOLICITORS LTD (12591239)\n",
      "🔎 [CompanyNumber] ARKWRIGHT  LTD -> ARKWRIGHT LONDON LTD (12581339)\n",
      "🔎 [CompanyNumber] ARKWRIGHT  PARTNERS LLP -> ARKWRIGHT LONDON PARTNERS LLP (OC445344)\n",
      "🔎 [CompanyNumber] ARL DIRECT TRANSPORT & DISTRIBUTION SERVICES LIMITED -> ARL DIRECT TRANSPORT & DISTRIBUTION SERVICES LIMITED (SC644654)\n",
      "🔎 [CompanyNumber] ARL DIRECT TRANSPORT LTD -> ARL DIRECT TRANSPORT LTD (SC779552)\n",
      "🔎 [CompanyNumber] AIRLINE RESERVATION LIMITED -> AIRLINE RESERVATION LIMITED (14498022)\n",
      "🔎 [CompanyNumber] AIRLINE ROTABLES (UK HOLDINGS) LIMITED -> AIRLINE ROTABLES (UK HOLDINGS) LIMITED (02637160)\n",
      "💾 Saved progress after 200 records\n",
      "🔎 [CompanyNumber] AIRLINE SERVICES AND COMPONENTS GROUP LIMITED -> AIRLINE SERVICES AND COMPONENTS GROUP LIMITED (07652548)\n",
      "🔎 [CompanyNumber] AIRLINE SERVICES COMPONENTS LIMITED -> AIRLINE SERVICES COMPONENTS LIMITED (01503647)\n",
      "🔎 [CompanyNumber] AIRLINE SERVICES HOLDINGS LIMITED -> AIRLINE SERVICES HOLDINGS LIMITED (05211996)\n",
      "🔎 [CompanyNumber] AIRLINE SERVICES LIMITED -> AIRLINE SERVICES LIMITED (01685094)\n",
      "🔎 [CompanyNumber] AIRLINE SERVICES TECHNICS LIMITED -> AIRLINE SERVICES TECHNICS LIMITED (06721205)\n",
      "🔎 [CompanyNumber] AIRLINE SUPPORT LIMITED -> AIRLINE SUPPORT LIMITED (15070430)\n",
      "🔎 [CompanyNumber] AIRLINE TARIFF PUBLISHING COMPANY -> AIRLINE TARIFF PUBLISHING COMPANY (FC014373)\n",
      "🔎 [CompanyNumber] AIRLINE TICKET LIMITED -> AIRLINE TICKET LIMITED (14523602)\n",
      "🔎 [CompanyNumber] AIRLINE TICKETS SERVICE LTD -> AIRLINE TICKETS SERVICE LTD (14922726)\n",
      "🔎 [CompanyNumber] AIRLINE TRAINING ACADEMY UK LTD -> AIRLINE TRAINING ACADEMY UK LTD (07558429)\n",
      "💾 Saved progress after 210 records\n",
      "🔎 [CompanyNumber] AIRLINE TRAINING ASSOCIATES LIMITED -> AIRLINE TRAINING ASSOCIATES LIMITED (01803135)\n",
      "🔎 [CompanyNumber] AIRLINE TRAVEL HUB LIMITED -> AIRLINE TRAVEL HUB LIMITED (08274114)\n",
      "🔎 [CompanyNumber] AIRLINE TRAVELS LIMITED -> AIRLINE TRAVELS LIMITED (08403564)\n",
      "🔎 [CompanyNumber] AIRLINE VENTURES LIMITED -> AIRLINE VENTURES LIMITED (11044404)\n",
      "🔎 [CompanyNumber] AIRLINEN LTD -> AIRLINEN LTD (10141677)\n",
      "🔎 [CompanyNumber] AIRLINEPREP LIMITED -> AIRLINEPREP LIMITED (10399598)\n",
      "🔎 [CompanyNumber] AIRLINEPROS NORTHERN EUROPE LTD -> AIRLINEPROS NORTHERN EUROPE LTD (12079551)\n",
      "🔎 [CompanyNumber] AIRLINER FOR RENT LTD -> AIRLINER FOR RENT LTD (11157621)\n",
      "🔎 [CompanyNumber] AIRLINER1 EUROPE LIMITED -> AIRLINER1 EUROPE LIMITED (SC464056)\n",
      "🔎 [CompanyNumber] AIRLINERS LIVE LTD -> AIRLINERS LIVE LTD (14062002)\n",
      "💾 Saved progress after 220 records\n",
      "🔎 [CompanyNumber] AIRLINES 4 DIALOGUE LIMITED -> AIRLINES 4 DIALOGUE LIMITED (05882574)\n",
      "🔎 [CompanyNumber] AIRLINES BAGAGE LTD -> AIRLINES BAGAGE LTD (15139570)\n",
      "🔎 [CompanyNumber] AIRLINES GLOBAL SOLUTIONS LIMITED -> AIRLINES GLOBAL SOLUTIONS LIMITED (12776613)\n",
      "🔎 [CompanyNumber] AIRLINES MARKET LIMITED -> AIRLINES MARKET LIMITED (10899619)\n",
      "🔎 [CompanyNumber] AIRLINES PAYMENT SYSTEM LTD -> AIRLINES PAYMENT SYSTEM LTD (15434683)\n",
      "🔎 [CompanyNumber] AIRLINES RESERVATIONS LTD -> AIRLINES RESERVATIONS LTD (14869092)\n",
      "🔎 [CompanyNumber] AIRLINES SOFTWARE SOLUTIONS LTD -> AIRLINES SOFTWARE SOLUTIONS LTD (15246457)\n",
      "🔎 [CompanyNumber] AIRLINES UK - THE ASSOCIATION OF UK AIRLINES LIMITED -> AIRLINES UK - THE ASSOCIATION OF UK AIRLINES LIMITED (04466066)\n",
      "🔎 [CompanyNumber] AIRLINESOLUTIONS LTD -> AIRLINESOLUTIONS LTD (11044170)\n",
      "🔎 [CompanyNumber] AIRLINGUA INTERNATIONAL LTD -> AIRLINGUA INTERNATIONAL LTD (09084985)\n",
      "💾 Saved progress after 230 records\n",
      "🔎 [CompanyNumber] AIRLINK 4 U LIMITED -> AIRLINK 4 U LIMITED (05057638)\n",
      "🔎 [CompanyNumber] AIRLINK COMMUNICATION LIMITED -> AIRLINK COMMUNICATION LIMITED (15218950)\n",
      "🔎 [CompanyNumber] AIRLINK GLOBAL TRAVEL LIMITED -> AIRLINK GLOBAL TRAVEL LIMITED (15733939)\n",
      "🔎 [CompanyNumber] AIRLINK HOLIDAYS LIMITED -> AIRLINK HOLIDAYS LIMITED (06590854)\n",
      "🔎 [CompanyNumber] AIRLINK HOTEL & BANQUETING SUITE LTD -> AIRLINK HOTEL & BANQUETING SUITE LTD (08632949)\n",
      "🔎 [CompanyNumber] AIRLINK MANAGEMENT LIMITED -> AIRLINK MANAGEMENT LIMITED (14186934)\n",
      "🔎 [CompanyNumber] AIRLINK MK LTD -> AIRLINK MK LTD (15558860)\n",
      "🔎 [CompanyNumber] AIRLINK PROJECTS BG LTD -> AIRLINK PROJECTS BG LTD (15142863)\n",
      "🔎 [CompanyNumber] AIRLINK TAXIS LIMITED -> AIRLINK TAXIS LIMITED (13010706)\n",
      "🔎 [CompanyNumber] AIRLINK TECHNOLOGY SERVICES LTD -> AIRLINK TECHNOLOGY SERVICES LTD (14840518)\n",
      "💾 Saved progress after 240 records\n",
      "🔎 [CompanyNumber] AIRLINK TRANSFER LTD -> AIRLINK TRANSFER LTD (14971001)\n",
      "🔎 [CompanyNumber] AIRLINK TRANSPORT LTD -> AIRLINK TRANSPORT LTD (15001411)\n",
      "🔎 [CompanyNumber] AIRLINK TRAVEL (EDI) LIMITED -> AIRLINK TRAVEL (EDI) LIMITED (SC599411)\n",
      "🔎 [CompanyNumber] AIRLINKS PRIVATE LTD -> AIRLINKS PRIVATE LTD (15247595)\n",
      "🔎 [CompanyNumber] AIRLINKS THE AIRPORT COACH COMPANY LIMITED -> AIRLINKS THE AIRPORT COACH COMPANY LIMITED (02036613)\n",
      "🔎 [CompanyNumber] AIRLITE CONSULTING LTD -> AIRLITE CONSULTING LTD (14881804)\n",
      "🔎 [CompanyNumber] AIRLITE FINANCE LIMITED -> AIRLITE FINANCE LIMITED (00636494)\n",
      "🔎 [CompanyNumber] AIRLITE PROPERTY SOLUTIONS LTD -> AIRLITE PROPERTY SOLUTIONS LTD (14390696)\n",
      "🔎 [CompanyNumber] AIRLIVE LIMITED -> AIRLIVE LIMITED (10000510)\n",
      "🔎 [CompanyNumber] AIRLOAD ENGINEERING LIMITED -> AIRLOAD ENGINEERING LIMITED (01542124)\n",
      "💾 Saved progress after 250 records\n",
      "🔎 [CompanyNumber] AIRLOAD WASTE MANAGEMENT LTD -> AIRLOAD WASTE MANAGEMENT LTD (10775574)\n",
      "🔎 [CompanyNumber] AIRLOCAL LTD -> AIRLOCAL LTD (11726558)\n",
      "🔎 [CompanyNumber] AIRLOCATE LTD -> AIRLOCATE LTD (14791229)\n",
      "🔎 [CompanyNumber] AIRLOCK AVIATION LIMITED -> AIRLOCK AVIATION LIMITED (05473267)\n",
      "🔎 [CompanyNumber] AIRLOCK THEATRE LIMITED -> AIRLOCK THEATRE LIMITED (14427605)\n",
      "🔎 [CompanyNumber] AIRLOCK UK LIMITED -> AIRLOCK UK LIMITED (14970896)\n",
      "🔎 [CompanyNumber] AIRLOCUM LIMITED -> AIRLOCUM LIMITED (11591611)\n",
      "🔎 [CompanyNumber] AIRLOFTY LTD -> AIRLOFTY LTD (14916775)\n",
      "🔎 [CompanyNumber] AIRLOG SOLUTIONS LIMITED -> AIRLOG SOLUTIONS LIMITED (11170758)\n",
      "🔎 [CompanyNumber] AIRLOK LIMITED -> AIRLOK LIMITED (09546280)\n",
      "💾 Saved progress after 260 records\n",
      "🔎 [CompanyNumber] AIRLOOP & SON LTD -> AIRLOOP & SON LTD (14816025)\n",
      "🔎 [CompanyNumber] AIRLOOP LTD -> AIRLOOP LTD (12038589)\n",
      "🔎 [CompanyNumber] AIRLOUNGE CONSULTING LIMITED -> AIRLOUNGE CONSULTING LIMITED (11935621)\n",
      "🔎 [CompanyNumber] AIRLUME VENTURES LP -> AIRLUME VENTURES LP (SL030787)\n",
      "🔎 [CompanyNumber] AIRLUN LTD -> AIRLUN LTD (15491727)\n",
      "🔎 [CompanyNumber] AIRLUXE HOSPITALITY LTD -> AIRLUXE HOSPITALITY LTD (14973310)\n",
      "🔎 [CompanyNumber] AIRLUXE LTD -> AIRLUXE LTD (05899691)\n",
      "🔎 [CompanyNumber] AIRLUXE MANAGEMENT LTD -> AIRLUXE MANAGEMENT LTD (15182448)\n",
      "🔎 [CompanyNumber] AIRLUXJETS LTD -> AIRLUXJETS LTD (14970234)\n",
      "🔎 [CompanyNumber] AIRLY AIR QUALITY SERVICES LTD -> AIRLY AIR QUALITY SERVICES LTD (13653711)\n",
      "💾 Saved progress after 270 records\n",
      "🔎 [CompanyNumber] AIRLY INC. -> AIRLY INC. (FC039704)\n",
      "🔎 [CompanyNumber] AIRLY LIMITED -> AIRLY LIMITED (13463723)\n",
      "🔎 [CompanyNumber] AIRLYNX CRUISE PARKING LIMITED -> AIRLYNX CRUISE PARKING LIMITED (15609240)\n",
      "🔎 [CompanyNumber] AIRLYNX PARKING LIMITED -> AIRLYNX PARKING LIMITED (08458344)\n",
      "🔎 [CompanyNumber] AIRMA LIMITED -> AIRMA LIMITED (12269548)\n",
      "🔎 [CompanyNumber] AIRMAC GDI LIMITED -> WOODSIDE 1 LIMITED (SC380200)\n",
      "🔎 [CompanyNumber] AIRMAC UK LTD -> AIRMAC UK LTD (09049162)\n",
      "🔎 [CompanyNumber] AIRMAC VBE LIMITED -> WOODSIDE 2 LIMITED (SC560321)\n",
      "🔎 [CompanyNumber] AIRMACS AVIATION LIMITED -> AIRMACS AVIATION LIMITED (14093783)\n",
      "🔎 [CompanyNumber] AIRMAGEDDON PRODUCTIONS LTD -> AIRMAGEDDON PRODUCTIONS LTD (09744790)\n",
      "💾 Saved progress after 280 records\n",
      "🔎 [CompanyNumber] AIRMAGIC LTD -> AIRMAGIC LTD (15519892)\n",
      "🔎 [CompanyNumber] AIRMAIL  LIMITED -> AIRMAIL LONDON LIMITED (10062314)\n",
      "🔎 [CompanyNumber] AIRMAIL PRESS LTD -> AIRMAIL PRESS LTD (13645028)\n",
      "🔎 [CompanyNumber] AIRMAILS LIMITED -> AIRMAILS LIMITED (10064414)\n",
      "🔎 [CompanyNumber] AIRMAKE LTD -> CONSHURST PROPERTIES LIMITED (11846953)\n",
      "🔎 [CompanyNumber] AIRLINE TRAVELS LTD -> AIRLINE TRAVELS LIMITED (08403564)\n",
      "🔎 [CompanyNumber] AIRLINE VENTURES LTD -> AIRLINE VENTURES LIMITED (11044404)\n",
      "🔎 [CompanyNumber] AIRLINEN LTD -> AIRLINEN LTD (10141677)\n",
      "🔎 [CompanyNumber] AIRLINEPREP LTD -> AIRLINEPREP LIMITED (10399598)\n",
      "🔎 [CompanyNumber] AIRLINEPROS NORTHERN EUROPE LTD -> SIDHU G & CO LTD (13079551)\n",
      "💾 Saved progress after 290 records\n",
      "🔎 [CompanyNumber] AIRLINER FOR RENT LTD -> S & Z ENTERPRISE LIMITED (11157631)\n",
      "🔎 [CompanyNumber] AIRLINER1 EUROPE LTD -> AIRLINER1 EUROPE LIMITED (SC464056)\n",
      "🔎 [CompanyNumber] AIRLINERS LIVE LTD -> GEMINI CLEANING LTD (14063003)\n",
      "🔎 [CompanyName] AIRLINE 4 DIALOGUE LTD -> AIRLINES 4 DIALOGUE LIMITED (05882574)\n",
      "🔎 [CompanyNumber] AIRLINE BAGAGE LTD -> AIRLINES BAGAGE LTD (15139570)\n",
      "🔎 [CompanyNumber] AIRLINE GLOBAL SOLUTIONS LTD -> KATIE CLARK BOUTIQUE LIMITED (13776613)\n",
      "🔎 [CompanyNumber] AIRLINE MARKET LTD -> AIRLINES MARKET LIMITED (10899619)\n",
      "🔎 [CompanyNumber] AIRLINE PAYMENT SYSTEM LTD -> AIRLINES PAYMENT SYSTEM LTD (15434683)\n",
      "🔎 [CompanyNumber] AIRLINE RESERVATIONS LTD -> 360 LAB LTD (14869093)\n",
      "🔎 [CompanyNumber] AIRLINE SOFTWARE SOLUTIONS LTD -> WHITTWHITEMAG LTD (15346457)\n",
      "💾 Saved progress after 300 records\n",
      "🔎 [CompanyNumber] AIRLINE UK - THE ASSOCIATION OF UK AIRLINE LTD -> AIRLINES UK - THE ASSOCIATION OF UK AIRLINES LIMITED (04466066)\n",
      "🔎 [CompanyNumber] AIRLINEOLUTIONS LTD -> AIRLINESOLUTIONS LTD (11044170)\n",
      "🔎 [CompanyNumber] AIRLINGUA INTERNATIONAL LTD -> AIRLINGUA INTERNATIONAL LTD (09084985)\n",
      "🔎 [CompanyNumber] AIRLINKS 4 U LTD -> AIRLINK 4 U LIMITED (05057638)\n",
      "🔎 [CompanyNumber] AIRLINKS COMMUNICATION LTD -> WARREN DEVENEYS LTD (15318950)\n",
      "🔎 [CompanyNumber] AIRLINKS GLOBAL TRAVEL LTD -> AIRLINK GLOBAL TRAVEL LIMITED (15733939)\n",
      "🔎 [CompanyNumber] AIRLINKS HOLIDAYS LTD -> AIRLINK HOLIDAYS LIMITED (06590854)\n",
      "✅ Final API log saved.\n",
      "✅ Enriched data saved.\n"
     ]
    },
    {
     "data": {
      "text/html": [
       "<div>\n",
       "<style scoped>\n",
       "    .dataframe tbody tr th:only-of-type {\n",
       "        vertical-align: middle;\n",
       "    }\n",
       "\n",
       "    .dataframe tbody tr th {\n",
       "        vertical-align: top;\n",
       "    }\n",
       "\n",
       "    .dataframe thead th {\n",
       "        text-align: right;\n",
       "    }\n",
       "</style>\n",
       "<table border=\"1\" class=\"dataframe\">\n",
       "  <thead>\n",
       "    <tr style=\"text-align: right;\">\n",
       "      <th></th>\n",
       "      <th>QueriedName</th>\n",
       "      <th>CompanyNumber</th>\n",
       "      <th>MatchedName</th>\n",
       "      <th>MatchedNumber</th>\n",
       "      <th>MatchSource</th>\n",
       "    </tr>\n",
       "  </thead>\n",
       "  <tbody>\n",
       "    <tr>\n",
       "      <th>0</th>\n",
       "      <td>BULLDOG MINI SKIPS LTD</td>\n",
       "      <td>15330909</td>\n",
       "      <td>BULLDOG MINI SKIPS LTD</td>\n",
       "      <td>15330909</td>\n",
       "      <td>CompanyNumber</td>\n",
       "    </tr>\n",
       "    <tr>\n",
       "      <th>1</th>\n",
       "      <td>BULLDOG LIMITED</td>\n",
       "      <td>09043007</td>\n",
       "      <td>BULLDOG MORTLAKE LIMITED</td>\n",
       "      <td>09043007</td>\n",
       "      <td>CompanyNumber</td>\n",
       "    </tr>\n",
       "    <tr>\n",
       "      <th>2</th>\n",
       "      <td>BULLDOG MUSHROOMS LTD</td>\n",
       "      <td>08465312</td>\n",
       "      <td>BULLDOG MUSHROOMS LTD</td>\n",
       "      <td>08465312</td>\n",
       "      <td>CompanyNumber</td>\n",
       "    </tr>\n",
       "    <tr>\n",
       "      <th>3</th>\n",
       "      <td>BULLDOG MUSICAL ENTERTAINMENTS LIMITED</td>\n",
       "      <td>01652098</td>\n",
       "      <td>BULLDOG MUSICAL ENTERTAINMENTS LIMITED</td>\n",
       "      <td>01652098</td>\n",
       "      <td>CompanyNumber</td>\n",
       "    </tr>\n",
       "    <tr>\n",
       "      <th>4</th>\n",
       "      <td>BULLDOG NETWORK (BOURNEMOUTH) LIMITED</td>\n",
       "      <td>04667818</td>\n",
       "      <td>BULLDOG NETWORK (BOURNEMOUTH) LIMITED</td>\n",
       "      <td>04667818</td>\n",
       "      <td>CompanyNumber</td>\n",
       "    </tr>\n",
       "    <tr>\n",
       "      <th>5</th>\n",
       "      <td>BULLDOG OFFSHORE SERVICES LIMITED</td>\n",
       "      <td>04357809</td>\n",
       "      <td>BULLDOG OFFSHORE SERVICES LIMITED</td>\n",
       "      <td>04357809</td>\n",
       "      <td>CompanyNumber</td>\n",
       "    </tr>\n",
       "    <tr>\n",
       "      <th>6</th>\n",
       "      <td>BULLDOG OUTDOORS LIMITED</td>\n",
       "      <td>05583758</td>\n",
       "      <td>BULLDOG OUTDOORS LIMITED</td>\n",
       "      <td>05583758</td>\n",
       "      <td>CompanyNumber</td>\n",
       "    </tr>\n",
       "    <tr>\n",
       "      <th>7</th>\n",
       "      <td>BULLDOG PALLETS &amp; SONS LTD</td>\n",
       "      <td>15431666</td>\n",
       "      <td>BULLDOG PALLETS &amp; SONS LTD</td>\n",
       "      <td>15431666</td>\n",
       "      <td>CompanyNumber</td>\n",
       "    </tr>\n",
       "    <tr>\n",
       "      <th>8</th>\n",
       "      <td>BULLDOG PLANT &amp; EQUIPMENT LTD</td>\n",
       "      <td>13302843</td>\n",
       "      <td>BULLDOG PLANT &amp; EQUIPMENT LTD</td>\n",
       "      <td>13302843</td>\n",
       "      <td>CompanyNumber</td>\n",
       "    </tr>\n",
       "    <tr>\n",
       "      <th>9</th>\n",
       "      <td>BULLDOG PLANT LTD</td>\n",
       "      <td>13304901</td>\n",
       "      <td>BULLDOG PLANT LTD</td>\n",
       "      <td>13304901</td>\n",
       "      <td>CompanyNumber</td>\n",
       "    </tr>\n",
       "  </tbody>\n",
       "</table>\n",
       "</div>"
      ],
      "text/plain": [
       "                              QueriedName CompanyNumber  \\\n",
       "0                  BULLDOG MINI SKIPS LTD      15330909   \n",
       "1                         BULLDOG LIMITED      09043007   \n",
       "2                   BULLDOG MUSHROOMS LTD      08465312   \n",
       "3  BULLDOG MUSICAL ENTERTAINMENTS LIMITED      01652098   \n",
       "4   BULLDOG NETWORK (BOURNEMOUTH) LIMITED      04667818   \n",
       "5       BULLDOG OFFSHORE SERVICES LIMITED      04357809   \n",
       "6                BULLDOG OUTDOORS LIMITED      05583758   \n",
       "7              BULLDOG PALLETS & SONS LTD      15431666   \n",
       "8           BULLDOG PLANT & EQUIPMENT LTD      13302843   \n",
       "9                       BULLDOG PLANT LTD      13304901   \n",
       "\n",
       "                              MatchedName MatchedNumber    MatchSource  \n",
       "0                  BULLDOG MINI SKIPS LTD      15330909  CompanyNumber  \n",
       "1                BULLDOG MORTLAKE LIMITED      09043007  CompanyNumber  \n",
       "2                   BULLDOG MUSHROOMS LTD      08465312  CompanyNumber  \n",
       "3  BULLDOG MUSICAL ENTERTAINMENTS LIMITED      01652098  CompanyNumber  \n",
       "4   BULLDOG NETWORK (BOURNEMOUTH) LIMITED      04667818  CompanyNumber  \n",
       "5       BULLDOG OFFSHORE SERVICES LIMITED      04357809  CompanyNumber  \n",
       "6                BULLDOG OUTDOORS LIMITED      05583758  CompanyNumber  \n",
       "7              BULLDOG PALLETS & SONS LTD      15431666  CompanyNumber  \n",
       "8           BULLDOG PLANT & EQUIPMENT LTD      13302843  CompanyNumber  \n",
       "9                       BULLDOG PLANT LTD      13304901  CompanyNumber  "
      ]
     },
     "metadata": {},
     "output_type": "display_data"
    },
    {
     "name": "stdout",
     "output_type": "stream",
     "text": [
      "\n",
      "⏱ Total Matching Runtime: 6m 31s\n"
     ]
    }
   ],
   "source": [
    "import os\n",
    "import requests\n",
    "import pandas as pd\n",
    "from time import sleep, time\n",
    "\n",
    "# Start time tracking\n",
    "start_time = time()\n",
    "\n",
    "# API Key and setup\n",
    "API_KEY = \"3f8ff43e-734f-4480-85d7-517bf2f99d65\" # ArifZamri - https://developer.company-information.service.gov.uk/manage-applications/6858f1b1e5532e0159bcc40b/view/live\n",
    "MAX_RETRIES = 5\n",
    "BACKOFF_FACTOR = 2\n",
    "DELAY = 0.5\n",
    "SAVE_EVERY = 10\n",
    "\n",
    "# Output paths\n",
    "OUTPUT_DIR = \"../output\"\n",
    "CSV_LOG_FILE = os.path.join(OUTPUT_DIR, \"api_results_log.csv\")\n",
    "CSV_ENRICHED_FILE = os.path.join(OUTPUT_DIR, \"company_enriched.csv\")\n",
    "os.makedirs(OUTPUT_DIR, exist_ok=True)\n",
    "\n",
    "api_log = []\n",
    "matched_names, matched_numbers, match_sources = [], [], []\n",
    "\n",
    "def get_company_by_number(company_number):\n",
    "    url = f\"https://api.company-information.service.gov.uk/company/{company_number}\"\n",
    "    retries = 0\n",
    "    while retries < MAX_RETRIES:\n",
    "        response = requests.get(url, auth=(API_KEY, ''))\n",
    "        if response.status_code == 200:\n",
    "            data = response.json()\n",
    "            return {\n",
    "                'MatchedName': data.get('company_name'),\n",
    "                'MatchedNumber': data.get('company_number'),\n",
    "                'MatchSource': 'CompanyNumber'\n",
    "            }\n",
    "        elif response.status_code in [429, 500, 502, 503, 504]:\n",
    "            wait_time = BACKOFF_FACTOR ** retries\n",
    "            print(f\"🔁 Retry {retries+1}/{MAX_RETRIES} after {wait_time}s for CompanyNumber {company_number}\")\n",
    "            sleep(wait_time)\n",
    "            retries += 1\n",
    "        else:\n",
    "            break\n",
    "    return None\n",
    "\n",
    "def search_company_by_name(company_name):\n",
    "    url = f\"https://api.company-information.service.gov.uk/search/companies?q={company_name}\"\n",
    "    retries = 0\n",
    "    while retries < MAX_RETRIES:\n",
    "        response = requests.get(url, auth=(API_KEY, ''))\n",
    "        if response.status_code == 200:\n",
    "            items = response.json().get('items', [])\n",
    "            if items:\n",
    "                return {\n",
    "                    'MatchedName': items[0].get('title'),\n",
    "                    'MatchedNumber': items[0].get('company_number'),\n",
    "                    'MatchSource': 'CompanyName'\n",
    "                }\n",
    "            else:\n",
    "                return {\n",
    "                    'MatchedName': None,\n",
    "                    'MatchedNumber': None,\n",
    "                    'MatchSource': 'NoMatch'\n",
    "                }\n",
    "        elif response.status_code in [429, 500, 502, 503, 504]:\n",
    "            wait_time = BACKOFF_FACTOR ** retries\n",
    "            print(f\"🔁 Retry {retries+1}/{MAX_RETRIES} after {wait_time}s for CompanyName {company_name}\")\n",
    "            sleep(wait_time)\n",
    "            retries += 1\n",
    "        else:\n",
    "            break\n",
    "    return None\n",
    "\n",
    "# Matching Loop\n",
    "for idx, row in df_cleaned.iterrows():\n",
    "    company_name = row['CompanyName']\n",
    "    company_number = str(row.get('CompanyNumber', '')).strip()\n",
    "    result = None\n",
    "\n",
    "    if company_number and company_number != \"nan\":\n",
    "        result = get_company_by_number(company_number)\n",
    "\n",
    "    if not result:\n",
    "        result = search_company_by_name(company_name)\n",
    "\n",
    "    matched_name = result.get('MatchedName') if result else None\n",
    "    matched_number = result.get('MatchedNumber') if result else None\n",
    "    match_source = result.get('MatchSource') if result else 'Failed'\n",
    "\n",
    "    print(f\"🔎 [{match_source}] {company_name} -> {matched_name} ({matched_number})\")\n",
    "\n",
    "    matched_names.append(matched_name)\n",
    "    matched_numbers.append(matched_number)\n",
    "    match_sources.append(match_source)\n",
    "\n",
    "    api_log.append({\n",
    "        'QueriedName': company_name,\n",
    "        'CompanyNumber': company_number,\n",
    "        'MatchedName': matched_name,\n",
    "        'MatchedNumber': matched_number,\n",
    "        'MatchSource': match_source\n",
    "    })\n",
    "\n",
    "    if (idx + 1) % SAVE_EVERY == 0:\n",
    "        pd.DataFrame(api_log).to_csv(CSV_LOG_FILE, index=False)\n",
    "        print(f\"💾 Saved progress after {idx + 1} records\")\n",
    "\n",
    "    sleep(DELAY)\n",
    "\n",
    "# Assign result columns\n",
    "df_cleaned['MatchedName'] = matched_names\n",
    "df_cleaned['MatchedNumber'] = matched_numbers\n",
    "df_cleaned['MatchSource'] = match_sources\n",
    "\n",
    "# Add NameMatch column\n",
    "def classify_name_match(row):\n",
    "    if pd.isnull(row['MatchedName']):\n",
    "        return 'Not Found'\n",
    "    elif str(row['CompanyName']).strip().lower() == str(row['MatchedName']).strip().lower():\n",
    "        return 'Exact'\n",
    "    else:\n",
    "        return 'Mismatch'\n",
    "\n",
    "df_cleaned['NameMatch'] = df_cleaned.apply(classify_name_match, axis=1)\n",
    "\n",
    "# Save final CSVs\n",
    "df_api_log = pd.DataFrame(api_log)\n",
    "df_api_log.to_csv(CSV_LOG_FILE, index=False)\n",
    "print(\"✅ Final API log saved.\")\n",
    "\n",
    "try:\n",
    "    df_cleaned.to_csv(CSV_ENRICHED_FILE, index=False)\n",
    "    print(\"✅ Enriched data saved.\")\n",
    "except PermissionError:\n",
    "    print(\"❌ File is open in another program. Please close it and rerun this cell.\")\n",
    "\n",
    "# Preview and runtime\n",
    "display(df_api_log.head(10))\n",
    "end_time = time()\n",
    "minutes, seconds = divmod(end_time - start_time, 60)\n",
    "print(f\"\\n⏱ Total Matching Runtime: {int(minutes)}m {int(seconds)}s\")"
   ]
  },
  {
   "cell_type": "markdown",
   "id": "d925c232",
   "metadata": {},
   "source": [
    "## 6. Enrichment\n",
    "Add a flag indicating successful match and save result to CSV"
   ]
  },
  {
   "cell_type": "code",
   "execution_count": 6,
   "id": "c20f234f",
   "metadata": {},
   "outputs": [
    {
     "name": "stdout",
     "output_type": "stream",
     "text": [
      "Matched records: 306\n",
      "Enriched records: 306\n"
     ]
    }
   ],
   "source": [
    "df_cleaned['IsMatched'] = df_cleaned['MatchedName'].notnull()\n",
    "matched_count = df_cleaned['IsMatched'].sum()\n",
    "enriched_count = matched_count  # assuming enrichment follows match\n",
    "print(f\"Matched records: {matched_count}\")\n",
    "print(f\"Enriched records: {enriched_count}\")"
   ]
  },
  {
   "cell_type": "markdown",
   "id": "02ffe208",
   "metadata": {},
   "source": [
    "## 7. Reporting and Visualisation\n",
    "Generate pie charts using plotly."
   ]
  },
  {
   "cell_type": "code",
   "execution_count": 7,
   "id": "308986db",
   "metadata": {},
   "outputs": [
    {
     "data": {
      "application/vnd.plotly.v1+json": {
       "config": {
        "plotlyServerURL": "https://plot.ly"
       },
       "data": [
        {
         "domain": {
          "x": [
           0,
           1
          ],
          "y": [
           0,
           1
          ]
         },
         "hovertemplate": "label=%{label}<br>value=%{value}<extra></extra>",
         "labels": [
          "Cleansed",
          "Removed"
         ],
         "legendgroup": "",
         "name": "",
         "showlegend": true,
         "type": "pie",
         "values": {
          "bdata": "MgEBAA==",
          "dtype": "i2"
         }
        }
       ],
       "layout": {
        "legend": {
         "tracegroupgap": 0
        },
        "piecolorway": [
         "green",
         "red"
        ],
        "template": {
         "data": {
          "bar": [
           {
            "error_x": {
             "color": "#2a3f5f"
            },
            "error_y": {
             "color": "#2a3f5f"
            },
            "marker": {
             "line": {
              "color": "#E5ECF6",
              "width": 0.5
             },
             "pattern": {
              "fillmode": "overlay",
              "size": 10,
              "solidity": 0.2
             }
            },
            "type": "bar"
           }
          ],
          "barpolar": [
           {
            "marker": {
             "line": {
              "color": "#E5ECF6",
              "width": 0.5
             },
             "pattern": {
              "fillmode": "overlay",
              "size": 10,
              "solidity": 0.2
             }
            },
            "type": "barpolar"
           }
          ],
          "carpet": [
           {
            "aaxis": {
             "endlinecolor": "#2a3f5f",
             "gridcolor": "white",
             "linecolor": "white",
             "minorgridcolor": "white",
             "startlinecolor": "#2a3f5f"
            },
            "baxis": {
             "endlinecolor": "#2a3f5f",
             "gridcolor": "white",
             "linecolor": "white",
             "minorgridcolor": "white",
             "startlinecolor": "#2a3f5f"
            },
            "type": "carpet"
           }
          ],
          "choropleth": [
           {
            "colorbar": {
             "outlinewidth": 0,
             "ticks": ""
            },
            "type": "choropleth"
           }
          ],
          "contour": [
           {
            "colorbar": {
             "outlinewidth": 0,
             "ticks": ""
            },
            "colorscale": [
             [
              0,
              "#0d0887"
             ],
             [
              0.1111111111111111,
              "#46039f"
             ],
             [
              0.2222222222222222,
              "#7201a8"
             ],
             [
              0.3333333333333333,
              "#9c179e"
             ],
             [
              0.4444444444444444,
              "#bd3786"
             ],
             [
              0.5555555555555556,
              "#d8576b"
             ],
             [
              0.6666666666666666,
              "#ed7953"
             ],
             [
              0.7777777777777778,
              "#fb9f3a"
             ],
             [
              0.8888888888888888,
              "#fdca26"
             ],
             [
              1,
              "#f0f921"
             ]
            ],
            "type": "contour"
           }
          ],
          "contourcarpet": [
           {
            "colorbar": {
             "outlinewidth": 0,
             "ticks": ""
            },
            "type": "contourcarpet"
           }
          ],
          "heatmap": [
           {
            "colorbar": {
             "outlinewidth": 0,
             "ticks": ""
            },
            "colorscale": [
             [
              0,
              "#0d0887"
             ],
             [
              0.1111111111111111,
              "#46039f"
             ],
             [
              0.2222222222222222,
              "#7201a8"
             ],
             [
              0.3333333333333333,
              "#9c179e"
             ],
             [
              0.4444444444444444,
              "#bd3786"
             ],
             [
              0.5555555555555556,
              "#d8576b"
             ],
             [
              0.6666666666666666,
              "#ed7953"
             ],
             [
              0.7777777777777778,
              "#fb9f3a"
             ],
             [
              0.8888888888888888,
              "#fdca26"
             ],
             [
              1,
              "#f0f921"
             ]
            ],
            "type": "heatmap"
           }
          ],
          "histogram": [
           {
            "marker": {
             "pattern": {
              "fillmode": "overlay",
              "size": 10,
              "solidity": 0.2
             }
            },
            "type": "histogram"
           }
          ],
          "histogram2d": [
           {
            "colorbar": {
             "outlinewidth": 0,
             "ticks": ""
            },
            "colorscale": [
             [
              0,
              "#0d0887"
             ],
             [
              0.1111111111111111,
              "#46039f"
             ],
             [
              0.2222222222222222,
              "#7201a8"
             ],
             [
              0.3333333333333333,
              "#9c179e"
             ],
             [
              0.4444444444444444,
              "#bd3786"
             ],
             [
              0.5555555555555556,
              "#d8576b"
             ],
             [
              0.6666666666666666,
              "#ed7953"
             ],
             [
              0.7777777777777778,
              "#fb9f3a"
             ],
             [
              0.8888888888888888,
              "#fdca26"
             ],
             [
              1,
              "#f0f921"
             ]
            ],
            "type": "histogram2d"
           }
          ],
          "histogram2dcontour": [
           {
            "colorbar": {
             "outlinewidth": 0,
             "ticks": ""
            },
            "colorscale": [
             [
              0,
              "#0d0887"
             ],
             [
              0.1111111111111111,
              "#46039f"
             ],
             [
              0.2222222222222222,
              "#7201a8"
             ],
             [
              0.3333333333333333,
              "#9c179e"
             ],
             [
              0.4444444444444444,
              "#bd3786"
             ],
             [
              0.5555555555555556,
              "#d8576b"
             ],
             [
              0.6666666666666666,
              "#ed7953"
             ],
             [
              0.7777777777777778,
              "#fb9f3a"
             ],
             [
              0.8888888888888888,
              "#fdca26"
             ],
             [
              1,
              "#f0f921"
             ]
            ],
            "type": "histogram2dcontour"
           }
          ],
          "mesh3d": [
           {
            "colorbar": {
             "outlinewidth": 0,
             "ticks": ""
            },
            "type": "mesh3d"
           }
          ],
          "parcoords": [
           {
            "line": {
             "colorbar": {
              "outlinewidth": 0,
              "ticks": ""
             }
            },
            "type": "parcoords"
           }
          ],
          "pie": [
           {
            "automargin": true,
            "type": "pie"
           }
          ],
          "scatter": [
           {
            "fillpattern": {
             "fillmode": "overlay",
             "size": 10,
             "solidity": 0.2
            },
            "type": "scatter"
           }
          ],
          "scatter3d": [
           {
            "line": {
             "colorbar": {
              "outlinewidth": 0,
              "ticks": ""
             }
            },
            "marker": {
             "colorbar": {
              "outlinewidth": 0,
              "ticks": ""
             }
            },
            "type": "scatter3d"
           }
          ],
          "scattercarpet": [
           {
            "marker": {
             "colorbar": {
              "outlinewidth": 0,
              "ticks": ""
             }
            },
            "type": "scattercarpet"
           }
          ],
          "scattergeo": [
           {
            "marker": {
             "colorbar": {
              "outlinewidth": 0,
              "ticks": ""
             }
            },
            "type": "scattergeo"
           }
          ],
          "scattergl": [
           {
            "marker": {
             "colorbar": {
              "outlinewidth": 0,
              "ticks": ""
             }
            },
            "type": "scattergl"
           }
          ],
          "scattermap": [
           {
            "marker": {
             "colorbar": {
              "outlinewidth": 0,
              "ticks": ""
             }
            },
            "type": "scattermap"
           }
          ],
          "scattermapbox": [
           {
            "marker": {
             "colorbar": {
              "outlinewidth": 0,
              "ticks": ""
             }
            },
            "type": "scattermapbox"
           }
          ],
          "scatterpolar": [
           {
            "marker": {
             "colorbar": {
              "outlinewidth": 0,
              "ticks": ""
             }
            },
            "type": "scatterpolar"
           }
          ],
          "scatterpolargl": [
           {
            "marker": {
             "colorbar": {
              "outlinewidth": 0,
              "ticks": ""
             }
            },
            "type": "scatterpolargl"
           }
          ],
          "scatterternary": [
           {
            "marker": {
             "colorbar": {
              "outlinewidth": 0,
              "ticks": ""
             }
            },
            "type": "scatterternary"
           }
          ],
          "surface": [
           {
            "colorbar": {
             "outlinewidth": 0,
             "ticks": ""
            },
            "colorscale": [
             [
              0,
              "#0d0887"
             ],
             [
              0.1111111111111111,
              "#46039f"
             ],
             [
              0.2222222222222222,
              "#7201a8"
             ],
             [
              0.3333333333333333,
              "#9c179e"
             ],
             [
              0.4444444444444444,
              "#bd3786"
             ],
             [
              0.5555555555555556,
              "#d8576b"
             ],
             [
              0.6666666666666666,
              "#ed7953"
             ],
             [
              0.7777777777777778,
              "#fb9f3a"
             ],
             [
              0.8888888888888888,
              "#fdca26"
             ],
             [
              1,
              "#f0f921"
             ]
            ],
            "type": "surface"
           }
          ],
          "table": [
           {
            "cells": {
             "fill": {
              "color": "#EBF0F8"
             },
             "line": {
              "color": "white"
             }
            },
            "header": {
             "fill": {
              "color": "#C8D4E3"
             },
             "line": {
              "color": "white"
             }
            },
            "type": "table"
           }
          ]
         },
         "layout": {
          "annotationdefaults": {
           "arrowcolor": "#2a3f5f",
           "arrowhead": 0,
           "arrowwidth": 1
          },
          "autotypenumbers": "strict",
          "coloraxis": {
           "colorbar": {
            "outlinewidth": 0,
            "ticks": ""
           }
          },
          "colorscale": {
           "diverging": [
            [
             0,
             "#8e0152"
            ],
            [
             0.1,
             "#c51b7d"
            ],
            [
             0.2,
             "#de77ae"
            ],
            [
             0.3,
             "#f1b6da"
            ],
            [
             0.4,
             "#fde0ef"
            ],
            [
             0.5,
             "#f7f7f7"
            ],
            [
             0.6,
             "#e6f5d0"
            ],
            [
             0.7,
             "#b8e186"
            ],
            [
             0.8,
             "#7fbc41"
            ],
            [
             0.9,
             "#4d9221"
            ],
            [
             1,
             "#276419"
            ]
           ],
           "sequential": [
            [
             0,
             "#0d0887"
            ],
            [
             0.1111111111111111,
             "#46039f"
            ],
            [
             0.2222222222222222,
             "#7201a8"
            ],
            [
             0.3333333333333333,
             "#9c179e"
            ],
            [
             0.4444444444444444,
             "#bd3786"
            ],
            [
             0.5555555555555556,
             "#d8576b"
            ],
            [
             0.6666666666666666,
             "#ed7953"
            ],
            [
             0.7777777777777778,
             "#fb9f3a"
            ],
            [
             0.8888888888888888,
             "#fdca26"
            ],
            [
             1,
             "#f0f921"
            ]
           ],
           "sequentialminus": [
            [
             0,
             "#0d0887"
            ],
            [
             0.1111111111111111,
             "#46039f"
            ],
            [
             0.2222222222222222,
             "#7201a8"
            ],
            [
             0.3333333333333333,
             "#9c179e"
            ],
            [
             0.4444444444444444,
             "#bd3786"
            ],
            [
             0.5555555555555556,
             "#d8576b"
            ],
            [
             0.6666666666666666,
             "#ed7953"
            ],
            [
             0.7777777777777778,
             "#fb9f3a"
            ],
            [
             0.8888888888888888,
             "#fdca26"
            ],
            [
             1,
             "#f0f921"
            ]
           ]
          },
          "colorway": [
           "#636efa",
           "#EF553B",
           "#00cc96",
           "#ab63fa",
           "#FFA15A",
           "#19d3f3",
           "#FF6692",
           "#B6E880",
           "#FF97FF",
           "#FECB52"
          ],
          "font": {
           "color": "#2a3f5f"
          },
          "geo": {
           "bgcolor": "white",
           "lakecolor": "white",
           "landcolor": "#E5ECF6",
           "showlakes": true,
           "showland": true,
           "subunitcolor": "white"
          },
          "hoverlabel": {
           "align": "left"
          },
          "hovermode": "closest",
          "mapbox": {
           "style": "light"
          },
          "paper_bgcolor": "white",
          "plot_bgcolor": "#E5ECF6",
          "polar": {
           "angularaxis": {
            "gridcolor": "white",
            "linecolor": "white",
            "ticks": ""
           },
           "bgcolor": "#E5ECF6",
           "radialaxis": {
            "gridcolor": "white",
            "linecolor": "white",
            "ticks": ""
           }
          },
          "scene": {
           "xaxis": {
            "backgroundcolor": "#E5ECF6",
            "gridcolor": "white",
            "gridwidth": 2,
            "linecolor": "white",
            "showbackground": true,
            "ticks": "",
            "zerolinecolor": "white"
           },
           "yaxis": {
            "backgroundcolor": "#E5ECF6",
            "gridcolor": "white",
            "gridwidth": 2,
            "linecolor": "white",
            "showbackground": true,
            "ticks": "",
            "zerolinecolor": "white"
           },
           "zaxis": {
            "backgroundcolor": "#E5ECF6",
            "gridcolor": "white",
            "gridwidth": 2,
            "linecolor": "white",
            "showbackground": true,
            "ticks": "",
            "zerolinecolor": "white"
           }
          },
          "shapedefaults": {
           "line": {
            "color": "#2a3f5f"
           }
          },
          "ternary": {
           "aaxis": {
            "gridcolor": "white",
            "linecolor": "white",
            "ticks": ""
           },
           "baxis": {
            "gridcolor": "white",
            "linecolor": "white",
            "ticks": ""
           },
           "bgcolor": "#E5ECF6",
           "caxis": {
            "gridcolor": "white",
            "linecolor": "white",
            "ticks": ""
           }
          },
          "title": {
           "x": 0.05
          },
          "xaxis": {
           "automargin": true,
           "gridcolor": "white",
           "linecolor": "white",
           "ticks": "",
           "title": {
            "standoff": 15
           },
           "zerolinecolor": "white",
           "zerolinewidth": 2
          },
          "yaxis": {
           "automargin": true,
           "gridcolor": "white",
           "linecolor": "white",
           "ticks": "",
           "title": {
            "standoff": 15
           },
           "zerolinecolor": "white",
           "zerolinewidth": 2
          }
         }
        },
        "title": {
         "text": "🧹 Cleansed Records"
        }
       }
      },
      "image/png": "[encoded data removed]"
     },
     "metadata": {},
     "output_type": "display_data"
    },
    {
     "data": {
      "application/vnd.plotly.v1+json": {
       "config": {
        "plotlyServerURL": "https://plot.ly"
       },
       "data": [
        {
         "domain": {
          "x": [
           0,
           1
          ],
          "y": [
           0,
           1
          ]
         },
         "hovertemplate": "label=%{label}<br>value=%{value}<extra></extra>",
         "labels": [
          "Unique",
          "Duplicates Removed"
         ],
         "legendgroup": "",
         "name": "",
         "showlegend": true,
         "type": "pie",
         "values": {
          "bdata": "MgEXAA==",
          "dtype": "i2"
         }
        }
       ],
       "layout": {
        "legend": {
         "tracegroupgap": 0
        },
        "piecolorway": [
         "blue",
         "orange"
        ],
        "template": {
         "data": {
          "bar": [
           {
            "error_x": {
             "color": "#2a3f5f"
            },
            "error_y": {
             "color": "#2a3f5f"
            },
            "marker": {
             "line": {
              "color": "#E5ECF6",
              "width": 0.5
             },
             "pattern": {
              "fillmode": "overlay",
              "size": 10,
              "solidity": 0.2
             }
            },
            "type": "bar"
           }
          ],
          "barpolar": [
           {
            "marker": {
             "line": {
              "color": "#E5ECF6",
              "width": 0.5
             },
             "pattern": {
              "fillmode": "overlay",
              "size": 10,
              "solidity": 0.2
             }
            },
            "type": "barpolar"
           }
          ],
          "carpet": [
           {
            "aaxis": {
             "endlinecolor": "#2a3f5f",
             "gridcolor": "white",
             "linecolor": "white",
             "minorgridcolor": "white",
             "startlinecolor": "#2a3f5f"
            },
            "baxis": {
             "endlinecolor": "#2a3f5f",
             "gridcolor": "white",
             "linecolor": "white",
             "minorgridcolor": "white",
             "startlinecolor": "#2a3f5f"
            },
            "type": "carpet"
           }
          ],
          "choropleth": [
           {
            "colorbar": {
             "outlinewidth": 0,
             "ticks": ""
            },
            "type": "choropleth"
           }
          ],
          "contour": [
           {
            "colorbar": {
             "outlinewidth": 0,
             "ticks": ""
            },
            "colorscale": [
             [
              0,
              "#0d0887"
             ],
             [
              0.1111111111111111,
              "#46039f"
             ],
             [
              0.2222222222222222,
              "#7201a8"
             ],
             [
              0.3333333333333333,
              "#9c179e"
             ],
             [
              0.4444444444444444,
              "#bd3786"
             ],
             [
              0.5555555555555556,
              "#d8576b"
             ],
             [
              0.6666666666666666,
              "#ed7953"
             ],
             [
              0.7777777777777778,
              "#fb9f3a"
             ],
             [
              0.8888888888888888,
              "#fdca26"
             ],
             [
              1,
              "#f0f921"
             ]
            ],
            "type": "contour"
           }
          ],
          "contourcarpet": [
           {
            "colorbar": {
             "outlinewidth": 0,
             "ticks": ""
            },
            "type": "contourcarpet"
           }
          ],
          "heatmap": [
           {
            "colorbar": {
             "outlinewidth": 0,
             "ticks": ""
            },
            "colorscale": [
             [
              0,
              "#0d0887"
             ],
             [
              0.1111111111111111,
              "#46039f"
             ],
             [
              0.2222222222222222,
              "#7201a8"
             ],
             [
              0.3333333333333333,
              "#9c179e"
             ],
             [
              0.4444444444444444,
              "#bd3786"
             ],
             [
              0.5555555555555556,
              "#d8576b"
             ],
             [
              0.6666666666666666,
              "#ed7953"
             ],
             [
              0.7777777777777778,
              "#fb9f3a"
             ],
             [
              0.8888888888888888,
              "#fdca26"
             ],
             [
              1,
              "#f0f921"
             ]
            ],
            "type": "heatmap"
           }
          ],
          "histogram": [
           {
            "marker": {
             "pattern": {
              "fillmode": "overlay",
              "size": 10,
              "solidity": 0.2
             }
            },
            "type": "histogram"
           }
          ],
          "histogram2d": [
           {
            "colorbar": {
             "outlinewidth": 0,
             "ticks": ""
            },
            "colorscale": [
             [
              0,
              "#0d0887"
             ],
             [
              0.1111111111111111,
              "#46039f"
             ],
             [
              0.2222222222222222,
              "#7201a8"
             ],
             [
              0.3333333333333333,
              "#9c179e"
             ],
             [
              0.4444444444444444,
              "#bd3786"
             ],
             [
              0.5555555555555556,
              "#d8576b"
             ],
             [
              0.6666666666666666,
              "#ed7953"
             ],
             [
              0.7777777777777778,
              "#fb9f3a"
             ],
             [
              0.8888888888888888,
              "#fdca26"
             ],
             [
              1,
              "#f0f921"
             ]
            ],
            "type": "histogram2d"
           }
          ],
          "histogram2dcontour": [
           {
            "colorbar": {
             "outlinewidth": 0,
             "ticks": ""
            },
            "colorscale": [
             [
              0,
              "#0d0887"
             ],
             [
              0.1111111111111111,
              "#46039f"
             ],
             [
              0.2222222222222222,
              "#7201a8"
             ],
             [
              0.3333333333333333,
              "#9c179e"
             ],
             [
              0.4444444444444444,
              "#bd3786"
             ],
             [
              0.5555555555555556,
              "#d8576b"
             ],
             [
              0.6666666666666666,
              "#ed7953"
             ],
             [
              0.7777777777777778,
              "#fb9f3a"
             ],
             [
              0.8888888888888888,
              "#fdca26"
             ],
             [
              1,
              "#f0f921"
             ]
            ],
            "type": "histogram2dcontour"
           }
          ],
          "mesh3d": [
           {
            "colorbar": {
             "outlinewidth": 0,
             "ticks": ""
            },
            "type": "mesh3d"
           }
          ],
          "parcoords": [
           {
            "line": {
             "colorbar": {
              "outlinewidth": 0,
              "ticks": ""
             }
            },
            "type": "parcoords"
           }
          ],
          "pie": [
           {
            "automargin": true,
            "type": "pie"
           }
          ],
          "scatter": [
           {
            "fillpattern": {
             "fillmode": "overlay",
             "size": 10,
             "solidity": 0.2
            },
            "type": "scatter"
           }
          ],
          "scatter3d": [
           {
            "line": {
             "colorbar": {
              "outlinewidth": 0,
              "ticks": ""
             }
            },
            "marker": {
             "colorbar": {
              "outlinewidth": 0,
              "ticks": ""
             }
            },
            "type": "scatter3d"
           }
          ],
          "scattercarpet": [
           {
            "marker": {
             "colorbar": {
              "outlinewidth": 0,
              "ticks": ""
             }
            },
            "type": "scattercarpet"
           }
          ],
          "scattergeo": [
           {
            "marker": {
             "colorbar": {
              "outlinewidth": 0,
              "ticks": ""
             }
            },
            "type": "scattergeo"
           }
          ],
          "scattergl": [
           {
            "marker": {
             "colorbar": {
              "outlinewidth": 0,
              "ticks": ""
             }
            },
            "type": "scattergl"
           }
          ],
          "scattermap": [
           {
            "marker": {
             "colorbar": {
              "outlinewidth": 0,
              "ticks": ""
             }
            },
            "type": "scattermap"
           }
          ],
          "scattermapbox": [
           {
            "marker": {
             "colorbar": {
              "outlinewidth": 0,
              "ticks": ""
             }
            },
            "type": "scattermapbox"
           }
          ],
          "scatterpolar": [
           {
            "marker": {
             "colorbar": {
              "outlinewidth": 0,
              "ticks": ""
             }
            },
            "type": "scatterpolar"
           }
          ],
          "scatterpolargl": [
           {
            "marker": {
             "colorbar": {
              "outlinewidth": 0,
              "ticks": ""
             }
            },
            "type": "scatterpolargl"
           }
          ],
          "scatterternary": [
           {
            "marker": {
             "colorbar": {
              "outlinewidth": 0,
              "ticks": ""
             }
            },
            "type": "scatterternary"
           }
          ],
          "surface": [
           {
            "colorbar": {
             "outlinewidth": 0,
             "ticks": ""
            },
            "colorscale": [
             [
              0,
              "#0d0887"
             ],
             [
              0.1111111111111111,
              "#46039f"
             ],
             [
              0.2222222222222222,
              "#7201a8"
             ],
             [
              0.3333333333333333,
              "#9c179e"
             ],
             [
              0.4444444444444444,
              "#bd3786"
             ],
             [
              0.5555555555555556,
              "#d8576b"
             ],
             [
              0.6666666666666666,
              "#ed7953"
             ],
             [
              0.7777777777777778,
              "#fb9f3a"
             ],
             [
              0.8888888888888888,
              "#fdca26"
             ],
             [
              1,
              "#f0f921"
             ]
            ],
            "type": "surface"
           }
          ],
          "table": [
           {
            "cells": {
             "fill": {
              "color": "#EBF0F8"
             },
             "line": {
              "color": "white"
             }
            },
            "header": {
             "fill": {
              "color": "#C8D4E3"
             },
             "line": {
              "color": "white"
             }
            },
            "type": "table"
           }
          ]
         },
         "layout": {
          "annotationdefaults": {
           "arrowcolor": "#2a3f5f",
           "arrowhead": 0,
           "arrowwidth": 1
          },
          "autotypenumbers": "strict",
          "coloraxis": {
           "colorbar": {
            "outlinewidth": 0,
            "ticks": ""
           }
          },
          "colorscale": {
           "diverging": [
            [
             0,
             "#8e0152"
            ],
            [
             0.1,
             "#c51b7d"
            ],
            [
             0.2,
             "#de77ae"
            ],
            [
             0.3,
             "#f1b6da"
            ],
            [
             0.4,
             "#fde0ef"
            ],
            [
             0.5,
             "#f7f7f7"
            ],
            [
             0.6,
             "#e6f5d0"
            ],
            [
             0.7,
             "#b8e186"
            ],
            [
             0.8,
             "#7fbc41"
            ],
            [
             0.9,
             "#4d9221"
            ],
            [
             1,
             "#276419"
            ]
           ],
           "sequential": [
            [
             0,
             "#0d0887"
            ],
            [
             0.1111111111111111,
             "#46039f"
            ],
            [
             0.2222222222222222,
             "#7201a8"
            ],
            [
             0.3333333333333333,
             "#9c179e"
            ],
            [
             0.4444444444444444,
             "#bd3786"
            ],
            [
             0.5555555555555556,
             "#d8576b"
            ],
            [
             0.6666666666666666,
             "#ed7953"
            ],
            [
             0.7777777777777778,
             "#fb9f3a"
            ],
            [
             0.8888888888888888,
             "#fdca26"
            ],
            [
             1,
             "#f0f921"
            ]
           ],
           "sequentialminus": [
            [
             0,
             "#0d0887"
            ],
            [
             0.1111111111111111,
             "#46039f"
            ],
            [
             0.2222222222222222,
             "#7201a8"
            ],
            [
             0.3333333333333333,
             "#9c179e"
            ],
            [
             0.4444444444444444,
             "#bd3786"
            ],
            [
             0.5555555555555556,
             "#d8576b"
            ],
            [
             0.6666666666666666,
             "#ed7953"
            ],
            [
             0.7777777777777778,
             "#fb9f3a"
            ],
            [
             0.8888888888888888,
             "#fdca26"
            ],
            [
             1,
             "#f0f921"
            ]
           ]
          },
          "colorway": [
           "#636efa",
           "#EF553B",
           "#00cc96",
           "#ab63fa",
           "#FFA15A",
           "#19d3f3",
           "#FF6692",
           "#B6E880",
           "#FF97FF",
           "#FECB52"
          ],
          "font": {
           "color": "#2a3f5f"
          },
          "geo": {
           "bgcolor": "white",
           "lakecolor": "white",
           "landcolor": "#E5ECF6",
           "showlakes": true,
           "showland": true,
           "subunitcolor": "white"
          },
          "hoverlabel": {
           "align": "left"
          },
          "hovermode": "closest",
          "mapbox": {
           "style": "light"
          },
          "paper_bgcolor": "white",
          "plot_bgcolor": "#E5ECF6",
          "polar": {
           "angularaxis": {
            "gridcolor": "white",
            "linecolor": "white",
            "ticks": ""
           },
           "bgcolor": "#E5ECF6",
           "radialaxis": {
            "gridcolor": "white",
            "linecolor": "white",
            "ticks": ""
           }
          },
          "scene": {
           "xaxis": {
            "backgroundcolor": "#E5ECF6",
            "gridcolor": "white",
            "gridwidth": 2,
            "linecolor": "white",
            "showbackground": true,
            "ticks": "",
            "zerolinecolor": "white"
           },
           "yaxis": {
            "backgroundcolor": "#E5ECF6",
            "gridcolor": "white",
            "gridwidth": 2,
            "linecolor": "white",
            "showbackground": true,
            "ticks": "",
            "zerolinecolor": "white"
           },
           "zaxis": {
            "backgroundcolor": "#E5ECF6",
            "gridcolor": "white",
            "gridwidth": 2,
            "linecolor": "white",
            "showbackground": true,
            "ticks": "",
            "zerolinecolor": "white"
           }
          },
          "shapedefaults": {
           "line": {
            "color": "#2a3f5f"
           }
          },
          "ternary": {
           "aaxis": {
            "gridcolor": "white",
            "linecolor": "white",
            "ticks": ""
           },
           "baxis": {
            "gridcolor": "white",
            "linecolor": "white",
            "ticks": ""
           },
           "bgcolor": "#E5ECF6",
           "caxis": {
            "gridcolor": "white",
            "linecolor": "white",
            "ticks": ""
           }
          },
          "title": {
           "x": 0.05
          },
          "xaxis": {
           "automargin": true,
           "gridcolor": "white",
           "linecolor": "white",
           "ticks": "",
           "title": {
            "standoff": 15
           },
           "zerolinecolor": "white",
           "zerolinewidth": 2
          },
          "yaxis": {
           "automargin": true,
           "gridcolor": "white",
           "linecolor": "white",
           "ticks": "",
           "title": {
            "standoff": 15
           },
           "zerolinecolor": "white",
           "zerolinewidth": 2
          }
         }
        },
        "title": {
         "text": "📛 Duplicate Records"
        }
       }
      },
      "image/png": "[encoded data removed]"
     },
     "metadata": {},
     "output_type": "display_data"
    },
    {
     "data": {
      "application/vnd.plotly.v1+json": {
       "config": {
        "plotlyServerURL": "https://plot.ly"
       },
       "data": [
        {
         "domain": {
          "x": [
           0,
           1
          ],
          "y": [
           0,
           1
          ]
         },
         "hovertemplate": "label=%{label}<br>value=%{value}<extra></extra>",
         "labels": [
          "Matched",
          "Unmatched"
         ],
         "legendgroup": "",
         "name": "",
         "showlegend": true,
         "type": "pie",
         "values": {
          "bdata": "MgEAAA==",
          "dtype": "i2"
         }
        }
       ],
       "layout": {
        "legend": {
         "tracegroupgap": 0
        },
        "piecolorway": [
         "green",
         "gray"
        ],
        "template": {
         "data": {
          "bar": [
           {
            "error_x": {
             "color": "#2a3f5f"
            },
            "error_y": {
             "color": "#2a3f5f"
            },
            "marker": {
             "line": {
              "color": "#E5ECF6",
              "width": 0.5
             },
             "pattern": {
              "fillmode": "overlay",
              "size": 10,
              "solidity": 0.2
             }
            },
            "type": "bar"
           }
          ],
          "barpolar": [
           {
            "marker": {
             "line": {
              "color": "#E5ECF6",
              "width": 0.5
             },
             "pattern": {
              "fillmode": "overlay",
              "size": 10,
              "solidity": 0.2
             }
            },
            "type": "barpolar"
           }
          ],
          "carpet": [
           {
            "aaxis": {
             "endlinecolor": "#2a3f5f",
             "gridcolor": "white",
             "linecolor": "white",
             "minorgridcolor": "white",
             "startlinecolor": "#2a3f5f"
            },
            "baxis": {
             "endlinecolor": "#2a3f5f",
             "gridcolor": "white",
             "linecolor": "white",
             "minorgridcolor": "white",
             "startlinecolor": "#2a3f5f"
            },
            "type": "carpet"
           }
          ],
          "choropleth": [
           {
            "colorbar": {
             "outlinewidth": 0,
             "ticks": ""
            },
            "type": "choropleth"
           }
          ],
          "contour": [
           {
            "colorbar": {
             "outlinewidth": 0,
             "ticks": ""
            },
            "colorscale": [
             [
              0,
              "#0d0887"
             ],
             [
              0.1111111111111111,
              "#46039f"
             ],
             [
              0.2222222222222222,
              "#7201a8"
             ],
             [
              0.3333333333333333,
              "#9c179e"
             ],
             [
              0.4444444444444444,
              "#bd3786"
             ],
             [
              0.5555555555555556,
              "#d8576b"
             ],
             [
              0.6666666666666666,
              "#ed7953"
             ],
             [
              0.7777777777777778,
              "#fb9f3a"
             ],
             [
              0.8888888888888888,
              "#fdca26"
             ],
             [
              1,
              "#f0f921"
             ]
            ],
            "type": "contour"
           }
          ],
          "contourcarpet": [
           {
            "colorbar": {
             "outlinewidth": 0,
             "ticks": ""
            },
            "type": "contourcarpet"
           }
          ],
          "heatmap": [
           {
            "colorbar": {
             "outlinewidth": 0,
             "ticks": ""
            },
            "colorscale": [
             [
              0,
              "#0d0887"
             ],
             [
              0.1111111111111111,
              "#46039f"
             ],
             [
              0.2222222222222222,
              "#7201a8"
             ],
             [
              0.3333333333333333,
              "#9c179e"
             ],
             [
              0.4444444444444444,
              "#bd3786"
             ],
             [
              0.5555555555555556,
              "#d8576b"
             ],
             [
              0.6666666666666666,
              "#ed7953"
             ],
             [
              0.7777777777777778,
              "#fb9f3a"
             ],
             [
              0.8888888888888888,
              "#fdca26"
             ],
             [
              1,
              "#f0f921"
             ]
            ],
            "type": "heatmap"
           }
          ],
          "histogram": [
           {
            "marker": {
             "pattern": {
              "fillmode": "overlay",
              "size": 10,
              "solidity": 0.2
             }
            },
            "type": "histogram"
           }
          ],
          "histogram2d": [
           {
            "colorbar": {
             "outlinewidth": 0,
             "ticks": ""
            },
            "colorscale": [
             [
              0,
              "#0d0887"
             ],
             [
              0.1111111111111111,
              "#46039f"
             ],
             [
              0.2222222222222222,
              "#7201a8"
             ],
             [
              0.3333333333333333,
              "#9c179e"
             ],
             [
              0.4444444444444444,
              "#bd3786"
             ],
             [
              0.5555555555555556,
              "#d8576b"
             ],
             [
              0.6666666666666666,
              "#ed7953"
             ],
             [
              0.7777777777777778,
              "#fb9f3a"
             ],
             [
              0.8888888888888888,
              "#fdca26"
             ],
             [
              1,
              "#f0f921"
             ]
            ],
            "type": "histogram2d"
           }
          ],
          "histogram2dcontour": [
           {
            "colorbar": {
             "outlinewidth": 0,
             "ticks": ""
            },
            "colorscale": [
             [
              0,
              "#0d0887"
             ],
             [
              0.1111111111111111,
              "#46039f"
             ],
             [
              0.2222222222222222,
              "#7201a8"
             ],
             [
              0.3333333333333333,
              "#9c179e"
             ],
             [
              0.4444444444444444,
              "#bd3786"
             ],
             [
              0.5555555555555556,
              "#d8576b"
             ],
             [
              0.6666666666666666,
              "#ed7953"
             ],
             [
              0.7777777777777778,
              "#fb9f3a"
             ],
             [
              0.8888888888888888,
              "#fdca26"
             ],
             [
              1,
              "#f0f921"
             ]
            ],
            "type": "histogram2dcontour"
           }
          ],
          "mesh3d": [
           {
            "colorbar": {
             "outlinewidth": 0,
             "ticks": ""
            },
            "type": "mesh3d"
           }
          ],
          "parcoords": [
           {
            "line": {
             "colorbar": {
              "outlinewidth": 0,
              "ticks": ""
             }
            },
            "type": "parcoords"
           }
          ],
          "pie": [
           {
            "automargin": true,
            "type": "pie"
           }
          ],
          "scatter": [
           {
            "fillpattern": {
             "fillmode": "overlay",
             "size": 10,
             "solidity": 0.2
            },
            "type": "scatter"
           }
          ],
          "scatter3d": [
           {
            "line": {
             "colorbar": {
              "outlinewidth": 0,
              "ticks": ""
             }
            },
            "marker": {
             "colorbar": {
              "outlinewidth": 0,
              "ticks": ""
             }
            },
            "type": "scatter3d"
           }
          ],
          "scattercarpet": [
           {
            "marker": {
             "colorbar": {
              "outlinewidth": 0,
              "ticks": ""
             }
            },
            "type": "scattercarpet"
           }
          ],
          "scattergeo": [
           {
            "marker": {
             "colorbar": {
              "outlinewidth": 0,
              "ticks": ""
             }
            },
            "type": "scattergeo"
           }
          ],
          "scattergl": [
           {
            "marker": {
             "colorbar": {
              "outlinewidth": 0,
              "ticks": ""
             }
            },
            "type": "scattergl"
           }
          ],
          "scattermap": [
           {
            "marker": {
             "colorbar": {
              "outlinewidth": 0,
              "ticks": ""
             }
            },
            "type": "scattermap"
           }
          ],
          "scattermapbox": [
           {
            "marker": {
             "colorbar": {
              "outlinewidth": 0,
              "ticks": ""
             }
            },
            "type": "scattermapbox"
           }
          ],
          "scatterpolar": [
           {
            "marker": {
             "colorbar": {
              "outlinewidth": 0,
              "ticks": ""
             }
            },
            "type": "scatterpolar"
           }
          ],
          "scatterpolargl": [
           {
            "marker": {
             "colorbar": {
              "outlinewidth": 0,
              "ticks": ""
             }
            },
            "type": "scatterpolargl"
           }
          ],
          "scatterternary": [
           {
            "marker": {
             "colorbar": {
              "outlinewidth": 0,
              "ticks": ""
             }
            },
            "type": "scatterternary"
           }
          ],
          "surface": [
           {
            "colorbar": {
             "outlinewidth": 0,
             "ticks": ""
            },
            "colorscale": [
             [
              0,
              "#0d0887"
             ],
             [
              0.1111111111111111,
              "#46039f"
             ],
             [
              0.2222222222222222,
              "#7201a8"
             ],
             [
              0.3333333333333333,
              "#9c179e"
             ],
             [
              0.4444444444444444,
              "#bd3786"
             ],
             [
              0.5555555555555556,
              "#d8576b"
             ],
             [
              0.6666666666666666,
              "#ed7953"
             ],
             [
              0.7777777777777778,
              "#fb9f3a"
             ],
             [
              0.8888888888888888,
              "#fdca26"
             ],
             [
              1,
              "#f0f921"
             ]
            ],
            "type": "surface"
           }
          ],
          "table": [
           {
            "cells": {
             "fill": {
              "color": "#EBF0F8"
             },
             "line": {
              "color": "white"
             }
            },
            "header": {
             "fill": {
              "color": "#C8D4E3"
             },
             "line": {
              "color": "white"
             }
            },
            "type": "table"
           }
          ]
         },
         "layout": {
          "annotationdefaults": {
           "arrowcolor": "#2a3f5f",
           "arrowhead": 0,
           "arrowwidth": 1
          },
          "autotypenumbers": "strict",
          "coloraxis": {
           "colorbar": {
            "outlinewidth": 0,
            "ticks": ""
           }
          },
          "colorscale": {
           "diverging": [
            [
             0,
             "#8e0152"
            ],
            [
             0.1,
             "#c51b7d"
            ],
            [
             0.2,
             "#de77ae"
            ],
            [
             0.3,
             "#f1b6da"
            ],
            [
             0.4,
             "#fde0ef"
            ],
            [
             0.5,
             "#f7f7f7"
            ],
            [
             0.6,
             "#e6f5d0"
            ],
            [
             0.7,
             "#b8e186"
            ],
            [
             0.8,
             "#7fbc41"
            ],
            [
             0.9,
             "#4d9221"
            ],
            [
             1,
             "#276419"
            ]
           ],
           "sequential": [
            [
             0,
             "#0d0887"
            ],
            [
             0.1111111111111111,
             "#46039f"
            ],
            [
             0.2222222222222222,
             "#7201a8"
            ],
            [
             0.3333333333333333,
             "#9c179e"
            ],
            [
             0.4444444444444444,
             "#bd3786"
            ],
            [
             0.5555555555555556,
             "#d8576b"
            ],
            [
             0.6666666666666666,
             "#ed7953"
            ],
            [
             0.7777777777777778,
             "#fb9f3a"
            ],
            [
             0.8888888888888888,
             "#fdca26"
            ],
            [
             1,
             "#f0f921"
            ]
           ],
           "sequentialminus": [
            [
             0,
             "#0d0887"
            ],
            [
             0.1111111111111111,
             "#46039f"
            ],
            [
             0.2222222222222222,
             "#7201a8"
            ],
            [
             0.3333333333333333,
             "#9c179e"
            ],
            [
             0.4444444444444444,
             "#bd3786"
            ],
            [
             0.5555555555555556,
             "#d8576b"
            ],
            [
             0.6666666666666666,
             "#ed7953"
            ],
            [
             0.7777777777777778,
             "#fb9f3a"
            ],
            [
             0.8888888888888888,
             "#fdca26"
            ],
            [
             1,
             "#f0f921"
            ]
           ]
          },
          "colorway": [
           "#636efa",
           "#EF553B",
           "#00cc96",
           "#ab63fa",
           "#FFA15A",
           "#19d3f3",
           "#FF6692",
           "#B6E880",
           "#FF97FF",
           "#FECB52"
          ],
          "font": {
           "color": "#2a3f5f"
          },
          "geo": {
           "bgcolor": "white",
           "lakecolor": "white",
           "landcolor": "#E5ECF6",
           "showlakes": true,
           "showland": true,
           "subunitcolor": "white"
          },
          "hoverlabel": {
           "align": "left"
          },
          "hovermode": "closest",
          "mapbox": {
           "style": "light"
          },
          "paper_bgcolor": "white",
          "plot_bgcolor": "#E5ECF6",
          "polar": {
           "angularaxis": {
            "gridcolor": "white",
            "linecolor": "white",
            "ticks": ""
           },
           "bgcolor": "#E5ECF6",
           "radialaxis": {
            "gridcolor": "white",
            "linecolor": "white",
            "ticks": ""
           }
          },
          "scene": {
           "xaxis": {
            "backgroundcolor": "#E5ECF6",
            "gridcolor": "white",
            "gridwidth": 2,
            "linecolor": "white",
            "showbackground": true,
            "ticks": "",
            "zerolinecolor": "white"
           },
           "yaxis": {
            "backgroundcolor": "#E5ECF6",
            "gridcolor": "white",
            "gridwidth": 2,
            "linecolor": "white",
            "showbackground": true,
            "ticks": "",
            "zerolinecolor": "white"
           },
           "zaxis": {
            "backgroundcolor": "#E5ECF6",
            "gridcolor": "white",
            "gridwidth": 2,
            "linecolor": "white",
            "showbackground": true,
            "ticks": "",
            "zerolinecolor": "white"
           }
          },
          "shapedefaults": {
           "line": {
            "color": "#2a3f5f"
           }
          },
          "ternary": {
           "aaxis": {
            "gridcolor": "white",
            "linecolor": "white",
            "ticks": ""
           },
           "baxis": {
            "gridcolor": "white",
            "linecolor": "white",
            "ticks": ""
           },
           "bgcolor": "#E5ECF6",
           "caxis": {
            "gridcolor": "white",
            "linecolor": "white",
            "ticks": ""
           }
          },
          "title": {
           "x": 0.05
          },
          "xaxis": {
           "automargin": true,
           "gridcolor": "white",
           "linecolor": "white",
           "ticks": "",
           "title": {
            "standoff": 15
           },
           "zerolinecolor": "white",
           "zerolinewidth": 2
          },
          "yaxis": {
           "automargin": true,
           "gridcolor": "white",
           "linecolor": "white",
           "ticks": "",
           "title": {
            "standoff": 15
           },
           "zerolinecolor": "white",
           "zerolinewidth": 2
          }
         }
        },
        "title": {
         "text": "🔍 Matched via Companies House API"
        }
       }
      },
      "image/png": "[encoded data removed]"
     },
     "metadata": {},
     "output_type": "display_data"
    },
    {
     "data": {
      "application/vnd.plotly.v1+json": {
       "config": {
        "plotlyServerURL": "https://plot.ly"
       },
       "data": [
        {
         "domain": {
          "x": [
           0,
           1
          ],
          "y": [
           0,
           1
          ]
         },
         "hovertemplate": "label=%{label}<br>value=%{value}<extra></extra>",
         "labels": [
          "Enriched",
          "Not Enriched"
         ],
         "legendgroup": "",
         "name": "",
         "showlegend": true,
         "type": "pie",
         "values": {
          "bdata": "MAEDAA==",
          "dtype": "i2"
         }
        }
       ],
       "layout": {
        "legend": {
         "tracegroupgap": 0
        },
        "piecolorway": [
         "purple",
         "lightgray"
        ],
        "template": {
         "data": {
          "bar": [
           {
            "error_x": {
             "color": "#2a3f5f"
            },
            "error_y": {
             "color": "#2a3f5f"
            },
            "marker": {
             "line": {
              "color": "#E5ECF6",
              "width": 0.5
             },
             "pattern": {
              "fillmode": "overlay",
              "size": 10,
              "solidity": 0.2
             }
            },
            "type": "bar"
           }
          ],
          "barpolar": [
           {
            "marker": {
             "line": {
              "color": "#E5ECF6",
              "width": 0.5
             },
             "pattern": {
              "fillmode": "overlay",
              "size": 10,
              "solidity": 0.2
             }
            },
            "type": "barpolar"
           }
          ],
          "carpet": [
           {
            "aaxis": {
             "endlinecolor": "#2a3f5f",
             "gridcolor": "white",
             "linecolor": "white",
             "minorgridcolor": "white",
             "startlinecolor": "#2a3f5f"
            },
            "baxis": {
             "endlinecolor": "#2a3f5f",
             "gridcolor": "white",
             "linecolor": "white",
             "minorgridcolor": "white",
             "startlinecolor": "#2a3f5f"
            },
            "type": "carpet"
           }
          ],
          "choropleth": [
           {
            "colorbar": {
             "outlinewidth": 0,
             "ticks": ""
            },
            "type": "choropleth"
           }
          ],
          "contour": [
           {
            "colorbar": {
             "outlinewidth": 0,
             "ticks": ""
            },
            "colorscale": [
             [
              0,
              "#0d0887"
             ],
             [
              0.1111111111111111,
              "#46039f"
             ],
             [
              0.2222222222222222,
              "#7201a8"
             ],
             [
              0.3333333333333333,
              "#9c179e"
             ],
             [
              0.4444444444444444,
              "#bd3786"
             ],
             [
              0.5555555555555556,
              "#d8576b"
             ],
             [
              0.6666666666666666,
              "#ed7953"
             ],
             [
              0.7777777777777778,
              "#fb9f3a"
             ],
             [
              0.8888888888888888,
              "#fdca26"
             ],
             [
              1,
              "#f0f921"
             ]
            ],
            "type": "contour"
           }
          ],
          "contourcarpet": [
           {
            "colorbar": {
             "outlinewidth": 0,
             "ticks": ""
            },
            "type": "contourcarpet"
           }
          ],
          "heatmap": [
           {
            "colorbar": {
             "outlinewidth": 0,
             "ticks": ""
            },
            "colorscale": [
             [
              0,
              "#0d0887"
             ],
             [
              0.1111111111111111,
              "#46039f"
             ],
             [
              0.2222222222222222,
              "#7201a8"
             ],
             [
              0.3333333333333333,
              "#9c179e"
             ],
             [
              0.4444444444444444,
              "#bd3786"
             ],
             [
              0.5555555555555556,
              "#d8576b"
             ],
             [
              0.6666666666666666,
              "#ed7953"
             ],
             [
              0.7777777777777778,
              "#fb9f3a"
             ],
             [
              0.8888888888888888,
              "#fdca26"
             ],
             [
              1,
              "#f0f921"
             ]
            ],
            "type": "heatmap"
           }
          ],
          "histogram": [
           {
            "marker": {
             "pattern": {
              "fillmode": "overlay",
              "size": 10,
              "solidity": 0.2
             }
            },
            "type": "histogram"
           }
          ],
          "histogram2d": [
           {
            "colorbar": {
             "outlinewidth": 0,
             "ticks": ""
            },
            "colorscale": [
             [
              0,
              "#0d0887"
             ],
             [
              0.1111111111111111,
              "#46039f"
             ],
             [
              0.2222222222222222,
              "#7201a8"
             ],
             [
              0.3333333333333333,
              "#9c179e"
             ],
             [
              0.4444444444444444,
              "#bd3786"
             ],
             [
              0.5555555555555556,
              "#d8576b"
             ],
             [
              0.6666666666666666,
              "#ed7953"
             ],
             [
              0.7777777777777778,
              "#fb9f3a"
             ],
             [
              0.8888888888888888,
              "#fdca26"
             ],
             [
              1,
              "#f0f921"
             ]
            ],
            "type": "histogram2d"
           }
          ],
          "histogram2dcontour": [
           {
            "colorbar": {
             "outlinewidth": 0,
             "ticks": ""
            },
            "colorscale": [
             [
              0,
              "#0d0887"
             ],
             [
              0.1111111111111111,
              "#46039f"
             ],
             [
              0.2222222222222222,
              "#7201a8"
             ],
             [
              0.3333333333333333,
              "#9c179e"
             ],
             [
              0.4444444444444444,
              "#bd3786"
             ],
             [
              0.5555555555555556,
              "#d8576b"
             ],
             [
              0.6666666666666666,
              "#ed7953"
             ],
             [
              0.7777777777777778,
              "#fb9f3a"
             ],
             [
              0.8888888888888888,
              "#fdca26"
             ],
             [
              1,
              "#f0f921"
             ]
            ],
            "type": "histogram2dcontour"
           }
          ],
          "mesh3d": [
           {
            "colorbar": {
             "outlinewidth": 0,
             "ticks": ""
            },
            "type": "mesh3d"
           }
          ],
          "parcoords": [
           {
            "line": {
             "colorbar": {
              "outlinewidth": 0,
              "ticks": ""
             }
            },
            "type": "parcoords"
           }
          ],
          "pie": [
           {
            "automargin": true,
            "type": "pie"
           }
          ],
          "scatter": [
           {
            "fillpattern": {
             "fillmode": "overlay",
             "size": 10,
             "solidity": 0.2
            },
            "type": "scatter"
           }
          ],
          "scatter3d": [
           {
            "line": {
             "colorbar": {
              "outlinewidth": 0,
              "ticks": ""
             }
            },
            "marker": {
             "colorbar": {
              "outlinewidth": 0,
              "ticks": ""
             }
            },
            "type": "scatter3d"
           }
          ],
          "scattercarpet": [
           {
            "marker": {
             "colorbar": {
              "outlinewidth": 0,
              "ticks": ""
             }
            },
            "type": "scattercarpet"
           }
          ],
          "scattergeo": [
           {
            "marker": {
             "colorbar": {
              "outlinewidth": 0,
              "ticks": ""
             }
            },
            "type": "scattergeo"
           }
          ],
          "scattergl": [
           {
            "marker": {
             "colorbar": {
              "outlinewidth": 0,
              "ticks": ""
             }
            },
            "type": "scattergl"
           }
          ],
          "scattermap": [
           {
            "marker": {
             "colorbar": {
              "outlinewidth": 0,
              "ticks": ""
             }
            },
            "type": "scattermap"
           }
          ],
          "scattermapbox": [
           {
            "marker": {
             "colorbar": {
              "outlinewidth": 0,
              "ticks": ""
             }
            },
            "type": "scattermapbox"
           }
          ],
          "scatterpolar": [
           {
            "marker": {
             "colorbar": {
              "outlinewidth": 0,
              "ticks": ""
             }
            },
            "type": "scatterpolar"
           }
          ],
          "scatterpolargl": [
           {
            "marker": {
             "colorbar": {
              "outlinewidth": 0,
              "ticks": ""
             }
            },
            "type": "scatterpolargl"
           }
          ],
          "scatterternary": [
           {
            "marker": {
             "colorbar": {
              "outlinewidth": 0,
              "ticks": ""
             }
            },
            "type": "scatterternary"
           }
          ],
          "surface": [
           {
            "colorbar": {
             "outlinewidth": 0,
             "ticks": ""
            },
            "colorscale": [
             [
              0,
              "#0d0887"
             ],
             [
              0.1111111111111111,
              "#46039f"
             ],
             [
              0.2222222222222222,
              "#7201a8"
             ],
             [
              0.3333333333333333,
              "#9c179e"
             ],
             [
              0.4444444444444444,
              "#bd3786"
             ],
             [
              0.5555555555555556,
              "#d8576b"
             ],
             [
              0.6666666666666666,
              "#ed7953"
             ],
             [
              0.7777777777777778,
              "#fb9f3a"
             ],
             [
              0.8888888888888888,
              "#fdca26"
             ],
             [
              1,
              "#f0f921"
             ]
            ],
            "type": "surface"
           }
          ],
          "table": [
           {
            "cells": {
             "fill": {
              "color": "#EBF0F8"
             },
             "line": {
              "color": "white"
             }
            },
            "header": {
             "fill": {
              "color": "#C8D4E3"
             },
             "line": {
              "color": "white"
             }
            },
            "type": "table"
           }
          ]
         },
         "layout": {
          "annotationdefaults": {
           "arrowcolor": "#2a3f5f",
           "arrowhead": 0,
           "arrowwidth": 1
          },
          "autotypenumbers": "strict",
          "coloraxis": {
           "colorbar": {
            "outlinewidth": 0,
            "ticks": ""
           }
          },
          "colorscale": {
           "diverging": [
            [
             0,
             "#8e0152"
            ],
            [
             0.1,
             "#c51b7d"
            ],
            [
             0.2,
             "#de77ae"
            ],
            [
             0.3,
             "#f1b6da"
            ],
            [
             0.4,
             "#fde0ef"
            ],
            [
             0.5,
             "#f7f7f7"
            ],
            [
             0.6,
             "#e6f5d0"
            ],
            [
             0.7,
             "#b8e186"
            ],
            [
             0.8,
             "#7fbc41"
            ],
            [
             0.9,
             "#4d9221"
            ],
            [
             1,
             "#276419"
            ]
           ],
           "sequential": [
            [
             0,
             "#0d0887"
            ],
            [
             0.1111111111111111,
             "#46039f"
            ],
            [
             0.2222222222222222,
             "#7201a8"
            ],
            [
             0.3333333333333333,
             "#9c179e"
            ],
            [
             0.4444444444444444,
             "#bd3786"
            ],
            [
             0.5555555555555556,
             "#d8576b"
            ],
            [
             0.6666666666666666,
             "#ed7953"
            ],
            [
             0.7777777777777778,
             "#fb9f3a"
            ],
            [
             0.8888888888888888,
             "#fdca26"
            ],
            [
             1,
             "#f0f921"
            ]
           ],
           "sequentialminus": [
            [
             0,
             "#0d0887"
            ],
            [
             0.1111111111111111,
             "#46039f"
            ],
            [
             0.2222222222222222,
             "#7201a8"
            ],
            [
             0.3333333333333333,
             "#9c179e"
            ],
            [
             0.4444444444444444,
             "#bd3786"
            ],
            [
             0.5555555555555556,
             "#d8576b"
            ],
            [
             0.6666666666666666,
             "#ed7953"
            ],
            [
             0.7777777777777778,
             "#fb9f3a"
            ],
            [
             0.8888888888888888,
             "#fdca26"
            ],
            [
             1,
             "#f0f921"
            ]
           ]
          },
          "colorway": [
           "#636efa",
           "#EF553B",
           "#00cc96",
           "#ab63fa",
           "#FFA15A",
           "#19d3f3",
           "#FF6692",
           "#B6E880",
           "#FF97FF",
           "#FECB52"
          ],
          "font": {
           "color": "#2a3f5f"
          },
          "geo": {
           "bgcolor": "white",
           "lakecolor": "white",
           "landcolor": "#E5ECF6",
           "showlakes": true,
           "showland": true,
           "subunitcolor": "white"
          },
          "hoverlabel": {
           "align": "left"
          },
          "hovermode": "closest",
          "mapbox": {
           "style": "light"
          },
          "paper_bgcolor": "white",
          "plot_bgcolor": "#E5ECF6",
          "polar": {
           "angularaxis": {
            "gridcolor": "white",
            "linecolor": "white",
            "ticks": ""
           },
           "bgcolor": "#E5ECF6",
           "radialaxis": {
            "gridcolor": "white",
            "linecolor": "white",
            "ticks": ""
           }
          },
          "scene": {
           "xaxis": {
            "backgroundcolor": "#E5ECF6",
            "gridcolor": "white",
            "gridwidth": 2,
            "linecolor": "white",
            "showbackground": true,
            "ticks": "",
            "zerolinecolor": "white"
           },
           "yaxis": {
            "backgroundcolor": "#E5ECF6",
            "gridcolor": "white",
            "gridwidth": 2,
            "linecolor": "white",
            "showbackground": true,
            "ticks": "",
            "zerolinecolor": "white"
           },
           "zaxis": {
            "backgroundcolor": "#E5ECF6",
            "gridcolor": "white",
            "gridwidth": 2,
            "linecolor": "white",
            "showbackground": true,
            "ticks": "",
            "zerolinecolor": "white"
           }
          },
          "shapedefaults": {
           "line": {
            "color": "#2a3f5f"
           }
          },
          "ternary": {
           "aaxis": {
            "gridcolor": "white",
            "linecolor": "white",
            "ticks": ""
           },
           "baxis": {
            "gridcolor": "white",
            "linecolor": "white",
            "ticks": ""
           },
           "bgcolor": "#E5ECF6",
           "caxis": {
            "gridcolor": "white",
            "linecolor": "white",
            "ticks": ""
           }
          },
          "title": {
           "x": 0.05
          },
          "xaxis": {
           "automargin": true,
           "gridcolor": "white",
           "linecolor": "white",
           "ticks": "",
           "title": {
            "standoff": 15
           },
           "zerolinecolor": "white",
           "zerolinewidth": 2
          },
          "yaxis": {
           "automargin": true,
           "gridcolor": "white",
           "linecolor": "white",
           "ticks": "",
           "title": {
            "standoff": 15
           },
           "zerolinecolor": "white",
           "zerolinewidth": 2
          }
         }
        },
        "title": {
         "text": "✨ Enriched Records"
        }
       }
      },
      "image/png": "[encoded data removed]"
     },
     "metadata": {},
     "output_type": "display_data"
    },
    {
     "data": {
      "application/vnd.plotly.v1+json": {
       "config": {
        "plotlyServerURL": "https://plot.ly"
       },
       "data": [
        {
         "hovertemplate": "MatchSource=%{x}<br>Count=%{text}<extra></extra>",
         "legendgroup": "CompanyNumber",
         "marker": {
          "color": "#636efa",
          "pattern": {
           "shape": ""
          }
         },
         "name": "CompanyNumber",
         "orientation": "v",
         "showlegend": true,
         "text": {
          "bdata": "AAAAAAAQc0A=",
          "dtype": "f8"
         },
         "textposition": "outside",
         "type": "bar",
         "x": [
          "CompanyNumber"
         ],
         "xaxis": "x",
         "y": {
          "bdata": "MQE=",
          "dtype": "i2"
         },
         "yaxis": "y"
        },
        {
         "hovertemplate": "MatchSource=%{x}<br>Count=%{text}<extra></extra>",
         "legendgroup": "CompanyName",
         "marker": {
          "color": "#EF553B",
          "pattern": {
           "shape": ""
          }
         },
         "name": "CompanyName",
         "orientation": "v",
         "showlegend": true,
         "text": {
          "bdata": "AAAAAAAA8D8=",
          "dtype": "f8"
         },
         "textposition": "outside",
         "type": "bar",
         "x": [
          "CompanyName"
         ],
         "xaxis": "x",
         "y": {
          "bdata": "AQ==",
          "dtype": "i1"
         },
         "yaxis": "y"
        }
       ],
       "layout": {
        "barmode": "relative",
        "legend": {
         "title": {
          "text": "MatchSource"
         },
         "tracegroupgap": 0
        },
        "template": {
         "data": {
          "bar": [
           {
            "error_x": {
             "color": "#2a3f5f"
            },
            "error_y": {
             "color": "#2a3f5f"
            },
            "marker": {
             "line": {
              "color": "#E5ECF6",
              "width": 0.5
             },
             "pattern": {
              "fillmode": "overlay",
              "size": 10,
              "solidity": 0.2
             }
            },
            "type": "bar"
           }
          ],
          "barpolar": [
           {
            "marker": {
             "line": {
              "color": "#E5ECF6",
              "width": 0.5
             },
             "pattern": {
              "fillmode": "overlay",
              "size": 10,
              "solidity": 0.2
             }
            },
            "type": "barpolar"
           }
          ],
          "carpet": [
           {
            "aaxis": {
             "endlinecolor": "#2a3f5f",
             "gridcolor": "white",
             "linecolor": "white",
             "minorgridcolor": "white",
             "startlinecolor": "#2a3f5f"
            },
            "baxis": {
             "endlinecolor": "#2a3f5f",
             "gridcolor": "white",
             "linecolor": "white",
             "minorgridcolor": "white",
             "startlinecolor": "#2a3f5f"
            },
            "type": "carpet"
           }
          ],
          "choropleth": [
           {
            "colorbar": {
             "outlinewidth": 0,
             "ticks": ""
            },
            "type": "choropleth"
           }
          ],
          "contour": [
           {
            "colorbar": {
             "outlinewidth": 0,
             "ticks": ""
            },
            "colorscale": [
             [
              0,
              "#0d0887"
             ],
             [
              0.1111111111111111,
              "#46039f"
             ],
             [
              0.2222222222222222,
              "#7201a8"
             ],
             [
              0.3333333333333333,
              "#9c179e"
             ],
             [
              0.4444444444444444,
              "#bd3786"
             ],
             [
              0.5555555555555556,
              "#d8576b"
             ],
             [
              0.6666666666666666,
              "#ed7953"
             ],
             [
              0.7777777777777778,
              "#fb9f3a"
             ],
             [
              0.8888888888888888,
              "#fdca26"
             ],
             [
              1,
              "#f0f921"
             ]
            ],
            "type": "contour"
           }
          ],
          "contourcarpet": [
           {
            "colorbar": {
             "outlinewidth": 0,
             "ticks": ""
            },
            "type": "contourcarpet"
           }
          ],
          "heatmap": [
           {
            "colorbar": {
             "outlinewidth": 0,
             "ticks": ""
            },
            "colorscale": [
             [
              0,
              "#0d0887"
             ],
             [
              0.1111111111111111,
              "#46039f"
             ],
             [
              0.2222222222222222,
              "#7201a8"
             ],
             [
              0.3333333333333333,
              "#9c179e"
             ],
             [
              0.4444444444444444,
              "#bd3786"
             ],
             [
              0.5555555555555556,
              "#d8576b"
             ],
             [
              0.6666666666666666,
              "#ed7953"
             ],
             [
              0.7777777777777778,
              "#fb9f3a"
             ],
             [
              0.8888888888888888,
              "#fdca26"
             ],
             [
              1,
              "#f0f921"
             ]
            ],
            "type": "heatmap"
           }
          ],
          "histogram": [
           {
            "marker": {
             "pattern": {
              "fillmode": "overlay",
              "size": 10,
              "solidity": 0.2
             }
            },
            "type": "histogram"
           }
          ],
          "histogram2d": [
           {
            "colorbar": {
             "outlinewidth": 0,
             "ticks": ""
            },
            "colorscale": [
             [
              0,
              "#0d0887"
             ],
             [
              0.1111111111111111,
              "#46039f"
             ],
             [
              0.2222222222222222,
              "#7201a8"
             ],
             [
              0.3333333333333333,
              "#9c179e"
             ],
             [
              0.4444444444444444,
              "#bd3786"
             ],
             [
              0.5555555555555556,
              "#d8576b"
             ],
             [
              0.6666666666666666,
              "#ed7953"
             ],
             [
              0.7777777777777778,
              "#fb9f3a"
             ],
             [
              0.8888888888888888,
              "#fdca26"
             ],
             [
              1,
              "#f0f921"
             ]
            ],
            "type": "histogram2d"
           }
          ],
          "histogram2dcontour": [
           {
            "colorbar": {
             "outlinewidth": 0,
             "ticks": ""
            },
            "colorscale": [
             [
              0,
              "#0d0887"
             ],
             [
              0.1111111111111111,
              "#46039f"
             ],
             [
              0.2222222222222222,
              "#7201a8"
             ],
             [
              0.3333333333333333,
              "#9c179e"
             ],
             [
              0.4444444444444444,
              "#bd3786"
             ],
             [
              0.5555555555555556,
              "#d8576b"
             ],
             [
              0.6666666666666666,
              "#ed7953"
             ],
             [
              0.7777777777777778,
              "#fb9f3a"
             ],
             [
              0.8888888888888888,
              "#fdca26"
             ],
             [
              1,
              "#f0f921"
             ]
            ],
            "type": "histogram2dcontour"
           }
          ],
          "mesh3d": [
           {
            "colorbar": {
             "outlinewidth": 0,
             "ticks": ""
            },
            "type": "mesh3d"
           }
          ],
          "parcoords": [
           {
            "line": {
             "colorbar": {
              "outlinewidth": 0,
              "ticks": ""
             }
            },
            "type": "parcoords"
           }
          ],
          "pie": [
           {
            "automargin": true,
            "type": "pie"
           }
          ],
          "scatter": [
           {
            "fillpattern": {
             "fillmode": "overlay",
             "size": 10,
             "solidity": 0.2
            },
            "type": "scatter"
           }
          ],
          "scatter3d": [
           {
            "line": {
             "colorbar": {
              "outlinewidth": 0,
              "ticks": ""
             }
            },
            "marker": {
             "colorbar": {
              "outlinewidth": 0,
              "ticks": ""
             }
            },
            "type": "scatter3d"
           }
          ],
          "scattercarpet": [
           {
            "marker": {
             "colorbar": {
              "outlinewidth": 0,
              "ticks": ""
             }
            },
            "type": "scattercarpet"
           }
          ],
          "scattergeo": [
           {
            "marker": {
             "colorbar": {
              "outlinewidth": 0,
              "ticks": ""
             }
            },
            "type": "scattergeo"
           }
          ],
          "scattergl": [
           {
            "marker": {
             "colorbar": {
              "outlinewidth": 0,
              "ticks": ""
             }
            },
            "type": "scattergl"
           }
          ],
          "scattermap": [
           {
            "marker": {
             "colorbar": {
              "outlinewidth": 0,
              "ticks": ""
             }
            },
            "type": "scattermap"
           }
          ],
          "scattermapbox": [
           {
            "marker": {
             "colorbar": {
              "outlinewidth": 0,
              "ticks": ""
             }
            },
            "type": "scattermapbox"
           }
          ],
          "scatterpolar": [
           {
            "marker": {
             "colorbar": {
              "outlinewidth": 0,
              "ticks": ""
             }
            },
            "type": "scatterpolar"
           }
          ],
          "scatterpolargl": [
           {
            "marker": {
             "colorbar": {
              "outlinewidth": 0,
              "ticks": ""
             }
            },
            "type": "scatterpolargl"
           }
          ],
          "scatterternary": [
           {
            "marker": {
             "colorbar": {
              "outlinewidth": 0,
              "ticks": ""
             }
            },
            "type": "scatterternary"
           }
          ],
          "surface": [
           {
            "colorbar": {
             "outlinewidth": 0,
             "ticks": ""
            },
            "colorscale": [
             [
              0,
              "#0d0887"
             ],
             [
              0.1111111111111111,
              "#46039f"
             ],
             [
              0.2222222222222222,
              "#7201a8"
             ],
             [
              0.3333333333333333,
              "#9c179e"
             ],
             [
              0.4444444444444444,
              "#bd3786"
             ],
             [
              0.5555555555555556,
              "#d8576b"
             ],
             [
              0.6666666666666666,
              "#ed7953"
             ],
             [
              0.7777777777777778,
              "#fb9f3a"
             ],
             [
              0.8888888888888888,
              "#fdca26"
             ],
             [
              1,
              "#f0f921"
             ]
            ],
            "type": "surface"
           }
          ],
          "table": [
           {
            "cells": {
             "fill": {
              "color": "#EBF0F8"
             },
             "line": {
              "color": "white"
             }
            },
            "header": {
             "fill": {
              "color": "#C8D4E3"
             },
             "line": {
              "color": "white"
             }
            },
            "type": "table"
           }
          ]
         },
         "layout": {
          "annotationdefaults": {
           "arrowcolor": "#2a3f5f",
           "arrowhead": 0,
           "arrowwidth": 1
          },
          "autotypenumbers": "strict",
          "coloraxis": {
           "colorbar": {
            "outlinewidth": 0,
            "ticks": ""
           }
          },
          "colorscale": {
           "diverging": [
            [
             0,
             "#8e0152"
            ],
            [
             0.1,
             "#c51b7d"
            ],
            [
             0.2,
             "#de77ae"
            ],
            [
             0.3,
             "#f1b6da"
            ],
            [
             0.4,
             "#fde0ef"
            ],
            [
             0.5,
             "#f7f7f7"
            ],
            [
             0.6,
             "#e6f5d0"
            ],
            [
             0.7,
             "#b8e186"
            ],
            [
             0.8,
             "#7fbc41"
            ],
            [
             0.9,
             "#4d9221"
            ],
            [
             1,
             "#276419"
            ]
           ],
           "sequential": [
            [
             0,
             "#0d0887"
            ],
            [
             0.1111111111111111,
             "#46039f"
            ],
            [
             0.2222222222222222,
             "#7201a8"
            ],
            [
             0.3333333333333333,
             "#9c179e"
            ],
            [
             0.4444444444444444,
             "#bd3786"
            ],
            [
             0.5555555555555556,
             "#d8576b"
            ],
            [
             0.6666666666666666,
             "#ed7953"
            ],
            [
             0.7777777777777778,
             "#fb9f3a"
            ],
            [
             0.8888888888888888,
             "#fdca26"
            ],
            [
             1,
             "#f0f921"
            ]
           ],
           "sequentialminus": [
            [
             0,
             "#0d0887"
            ],
            [
             0.1111111111111111,
             "#46039f"
            ],
            [
             0.2222222222222222,
             "#7201a8"
            ],
            [
             0.3333333333333333,
             "#9c179e"
            ],
            [
             0.4444444444444444,
             "#bd3786"
            ],
            [
             0.5555555555555556,
             "#d8576b"
            ],
            [
             0.6666666666666666,
             "#ed7953"
            ],
            [
             0.7777777777777778,
             "#fb9f3a"
            ],
            [
             0.8888888888888888,
             "#fdca26"
            ],
            [
             1,
             "#f0f921"
            ]
           ]
          },
          "colorway": [
           "#636efa",
           "#EF553B",
           "#00cc96",
           "#ab63fa",
           "#FFA15A",
           "#19d3f3",
           "#FF6692",
           "#B6E880",
           "#FF97FF",
           "#FECB52"
          ],
          "font": {
           "color": "#2a3f5f"
          },
          "geo": {
           "bgcolor": "white",
           "lakecolor": "white",
           "landcolor": "#E5ECF6",
           "showlakes": true,
           "showland": true,
           "subunitcolor": "white"
          },
          "hoverlabel": {
           "align": "left"
          },
          "hovermode": "closest",
          "mapbox": {
           "style": "light"
          },
          "paper_bgcolor": "white",
          "plot_bgcolor": "#E5ECF6",
          "polar": {
           "angularaxis": {
            "gridcolor": "white",
            "linecolor": "white",
            "ticks": ""
           },
           "bgcolor": "#E5ECF6",
           "radialaxis": {
            "gridcolor": "white",
            "linecolor": "white",
            "ticks": ""
           }
          },
          "scene": {
           "xaxis": {
            "backgroundcolor": "#E5ECF6",
            "gridcolor": "white",
            "gridwidth": 2,
            "linecolor": "white",
            "showbackground": true,
            "ticks": "",
            "zerolinecolor": "white"
           },
           "yaxis": {
            "backgroundcolor": "#E5ECF6",
            "gridcolor": "white",
            "gridwidth": 2,
            "linecolor": "white",
            "showbackground": true,
            "ticks": "",
            "zerolinecolor": "white"
           },
           "zaxis": {
            "backgroundcolor": "#E5ECF6",
            "gridcolor": "white",
            "gridwidth": 2,
            "linecolor": "white",
            "showbackground": true,
            "ticks": "",
            "zerolinecolor": "white"
           }
          },
          "shapedefaults": {
           "line": {
            "color": "#2a3f5f"
           }
          },
          "ternary": {
           "aaxis": {
            "gridcolor": "white",
            "linecolor": "white",
            "ticks": ""
           },
           "baxis": {
            "gridcolor": "white",
            "linecolor": "white",
            "ticks": ""
           },
           "bgcolor": "#E5ECF6",
           "caxis": {
            "gridcolor": "white",
            "linecolor": "white",
            "ticks": ""
           }
          },
          "title": {
           "x": 0.05
          },
          "xaxis": {
           "automargin": true,
           "gridcolor": "white",
           "linecolor": "white",
           "ticks": "",
           "title": {
            "standoff": 15
           },
           "zerolinecolor": "white",
           "zerolinewidth": 2
          },
          "yaxis": {
           "automargin": true,
           "gridcolor": "white",
           "linecolor": "white",
           "ticks": "",
           "title": {
            "standoff": 15
           },
           "zerolinecolor": "white",
           "zerolinewidth": 2
          }
         }
        },
        "title": {
         "text": "🔍 Match Source Distribution"
        },
        "xaxis": {
         "anchor": "y",
         "categoryarray": [
          "CompanyNumber",
          "CompanyName"
         ],
         "categoryorder": "array",
         "domain": [
          0,
          1
         ],
         "title": {
          "text": "MatchSource"
         }
        },
        "yaxis": {
         "anchor": "x",
         "domain": [
          0,
          1
         ],
         "title": {
          "text": "Count"
         }
        }
       }
      },
      "image/png": "[encoded data removed]"
     },
     "metadata": {},
     "output_type": "display_data"
    },
    {
     "data": {
      "application/vnd.plotly.v1+json": {
       "config": {
        "plotlyServerURL": "https://plot.ly"
       },
       "data": [
        {
         "hovertemplate": "NameMatch=%{x}<br>Count=%{text}<extra></extra>",
         "legendgroup": "Exact",
         "marker": {
          "color": "#636efa",
          "pattern": {
           "shape": ""
          }
         },
         "name": "Exact",
         "orientation": "v",
         "showlegend": true,
         "text": {
          "bdata": "AAAAAACwcEA=",
          "dtype": "f8"
         },
         "textposition": "outside",
         "type": "bar",
         "x": [
          "Exact"
         ],
         "xaxis": "x",
         "y": {
          "bdata": "CwE=",
          "dtype": "i2"
         },
         "yaxis": "y"
        },
        {
         "hovertemplate": "NameMatch=%{x}<br>Count=%{text}<extra></extra>",
         "legendgroup": "Mismatch",
         "marker": {
          "color": "#EF553B",
          "pattern": {
           "shape": ""
          }
         },
         "name": "Mismatch",
         "orientation": "v",
         "showlegend": true,
         "text": {
          "bdata": "AAAAAACAQ0A=",
          "dtype": "f8"
         },
         "textposition": "outside",
         "type": "bar",
         "x": [
          "Mismatch"
         ],
         "xaxis": "x",
         "y": {
          "bdata": "Jw==",
          "dtype": "i1"
         },
         "yaxis": "y"
        }
       ],
       "layout": {
        "barmode": "relative",
        "legend": {
         "title": {
          "text": "NameMatch"
         },
         "tracegroupgap": 0
        },
        "template": {
         "data": {
          "bar": [
           {
            "error_x": {
             "color": "#2a3f5f"
            },
            "error_y": {
             "color": "#2a3f5f"
            },
            "marker": {
             "line": {
              "color": "#E5ECF6",
              "width": 0.5
             },
             "pattern": {
              "fillmode": "overlay",
              "size": 10,
              "solidity": 0.2
             }
            },
            "type": "bar"
           }
          ],
          "barpolar": [
           {
            "marker": {
             "line": {
              "color": "#E5ECF6",
              "width": 0.5
             },
             "pattern": {
              "fillmode": "overlay",
              "size": 10,
              "solidity": 0.2
             }
            },
            "type": "barpolar"
           }
          ],
          "carpet": [
           {
            "aaxis": {
             "endlinecolor": "#2a3f5f",
             "gridcolor": "white",
             "linecolor": "white",
             "minorgridcolor": "white",
             "startlinecolor": "#2a3f5f"
            },
            "baxis": {
             "endlinecolor": "#2a3f5f",
             "gridcolor": "white",
             "linecolor": "white",
             "minorgridcolor": "white",
             "startlinecolor": "#2a3f5f"
            },
            "type": "carpet"
           }
          ],
          "choropleth": [
           {
            "colorbar": {
             "outlinewidth": 0,
             "ticks": ""
            },
            "type": "choropleth"
           }
          ],
          "contour": [
           {
            "colorbar": {
             "outlinewidth": 0,
             "ticks": ""
            },
            "colorscale": [
             [
              0,
              "#0d0887"
             ],
             [
              0.1111111111111111,
              "#46039f"
             ],
             [
              0.2222222222222222,
              "#7201a8"
             ],
             [
              0.3333333333333333,
              "#9c179e"
             ],
             [
              0.4444444444444444,
              "#bd3786"
             ],
             [
              0.5555555555555556,
              "#d8576b"
             ],
             [
              0.6666666666666666,
              "#ed7953"
             ],
             [
              0.7777777777777778,
              "#fb9f3a"
             ],
             [
              0.8888888888888888,
              "#fdca26"
             ],
             [
              1,
              "#f0f921"
             ]
            ],
            "type": "contour"
           }
          ],
          "contourcarpet": [
           {
            "colorbar": {
             "outlinewidth": 0,
             "ticks": ""
            },
            "type": "contourcarpet"
           }
          ],
          "heatmap": [
           {
            "colorbar": {
             "outlinewidth": 0,
             "ticks": ""
            },
            "colorscale": [
             [
              0,
              "#0d0887"
             ],
             [
              0.1111111111111111,
              "#46039f"
             ],
             [
              0.2222222222222222,
              "#7201a8"
             ],
             [
              0.3333333333333333,
              "#9c179e"
             ],
             [
              0.4444444444444444,
              "#bd3786"
             ],
             [
              0.5555555555555556,
              "#d8576b"
             ],
             [
              0.6666666666666666,
              "#ed7953"
             ],
             [
              0.7777777777777778,
              "#fb9f3a"
             ],
             [
              0.8888888888888888,
              "#fdca26"
             ],
             [
              1,
              "#f0f921"
             ]
            ],
            "type": "heatmap"
           }
          ],
          "histogram": [
           {
            "marker": {
             "pattern": {
              "fillmode": "overlay",
              "size": 10,
              "solidity": 0.2
             }
            },
            "type": "histogram"
           }
          ],
          "histogram2d": [
           {
            "colorbar": {
             "outlinewidth": 0,
             "ticks": ""
            },
            "colorscale": [
             [
              0,
              "#0d0887"
             ],
             [
              0.1111111111111111,
              "#46039f"
             ],
             [
              0.2222222222222222,
              "#7201a8"
             ],
             [
              0.3333333333333333,
              "#9c179e"
             ],
             [
              0.4444444444444444,
              "#bd3786"
             ],
             [
              0.5555555555555556,
              "#d8576b"
             ],
             [
              0.6666666666666666,
              "#ed7953"
             ],
             [
              0.7777777777777778,
              "#fb9f3a"
             ],
             [
              0.8888888888888888,
              "#fdca26"
             ],
             [
              1,
              "#f0f921"
             ]
            ],
            "type": "histogram2d"
           }
          ],
          "histogram2dcontour": [
           {
            "colorbar": {
             "outlinewidth": 0,
             "ticks": ""
            },
            "colorscale": [
             [
              0,
              "#0d0887"
             ],
             [
              0.1111111111111111,
              "#46039f"
             ],
             [
              0.2222222222222222,
              "#7201a8"
             ],
             [
              0.3333333333333333,
              "#9c179e"
             ],
             [
              0.4444444444444444,
              "#bd3786"
             ],
             [
              0.5555555555555556,
              "#d8576b"
             ],
             [
              0.6666666666666666,
              "#ed7953"
             ],
             [
              0.7777777777777778,
              "#fb9f3a"
             ],
             [
              0.8888888888888888,
              "#fdca26"
             ],
             [
              1,
              "#f0f921"
             ]
            ],
            "type": "histogram2dcontour"
           }
          ],
          "mesh3d": [
           {
            "colorbar": {
             "outlinewidth": 0,
             "ticks": ""
            },
            "type": "mesh3d"
           }
          ],
          "parcoords": [
           {
            "line": {
             "colorbar": {
              "outlinewidth": 0,
              "ticks": ""
             }
            },
            "type": "parcoords"
           }
          ],
          "pie": [
           {
            "automargin": true,
            "type": "pie"
           }
          ],
          "scatter": [
           {
            "fillpattern": {
             "fillmode": "overlay",
             "size": 10,
             "solidity": 0.2
            },
            "type": "scatter"
           }
          ],
          "scatter3d": [
           {
            "line": {
             "colorbar": {
              "outlinewidth": 0,
              "ticks": ""
             }
            },
            "marker": {
             "colorbar": {
              "outlinewidth": 0,
              "ticks": ""
             }
            },
            "type": "scatter3d"
           }
          ],
          "scattercarpet": [
           {
            "marker": {
             "colorbar": {
              "outlinewidth": 0,
              "ticks": ""
             }
            },
            "type": "scattercarpet"
           }
          ],
          "scattergeo": [
           {
            "marker": {
             "colorbar": {
              "outlinewidth": 0,
              "ticks": ""
             }
            },
            "type": "scattergeo"
           }
          ],
          "scattergl": [
           {
            "marker": {
             "colorbar": {
              "outlinewidth": 0,
              "ticks": ""
             }
            },
            "type": "scattergl"
           }
          ],
          "scattermap": [
           {
            "marker": {
             "colorbar": {
              "outlinewidth": 0,
              "ticks": ""
             }
            },
            "type": "scattermap"
           }
          ],
          "scattermapbox": [
           {
            "marker": {
             "colorbar": {
              "outlinewidth": 0,
              "ticks": ""
             }
            },
            "type": "scattermapbox"
           }
          ],
          "scatterpolar": [
           {
            "marker": {
             "colorbar": {
              "outlinewidth": 0,
              "ticks": ""
             }
            },
            "type": "scatterpolar"
           }
          ],
          "scatterpolargl": [
           {
            "marker": {
             "colorbar": {
              "outlinewidth": 0,
              "ticks": ""
             }
            },
            "type": "scatterpolargl"
           }
          ],
          "scatterternary": [
           {
            "marker": {
             "colorbar": {
              "outlinewidth": 0,
              "ticks": ""
             }
            },
            "type": "scatterternary"
           }
          ],
          "surface": [
           {
            "colorbar": {
             "outlinewidth": 0,
             "ticks": ""
            },
            "colorscale": [
             [
              0,
              "#0d0887"
             ],
             [
              0.1111111111111111,
              "#46039f"
             ],
             [
              0.2222222222222222,
              "#7201a8"
             ],
             [
              0.3333333333333333,
              "#9c179e"
             ],
             [
              0.4444444444444444,
              "#bd3786"
             ],
             [
              0.5555555555555556,
              "#d8576b"
             ],
             [
              0.6666666666666666,
              "#ed7953"
             ],
             [
              0.7777777777777778,
              "#fb9f3a"
             ],
             [
              0.8888888888888888,
              "#fdca26"
             ],
             [
              1,
              "#f0f921"
             ]
            ],
            "type": "surface"
           }
          ],
          "table": [
           {
            "cells": {
             "fill": {
              "color": "#EBF0F8"
             },
             "line": {
              "color": "white"
             }
            },
            "header": {
             "fill": {
              "color": "#C8D4E3"
             },
             "line": {
              "color": "white"
             }
            },
            "type": "table"
           }
          ]
         },
         "layout": {
          "annotationdefaults": {
           "arrowcolor": "#2a3f5f",
           "arrowhead": 0,
           "arrowwidth": 1
          },
          "autotypenumbers": "strict",
          "coloraxis": {
           "colorbar": {
            "outlinewidth": 0,
            "ticks": ""
           }
          },
          "colorscale": {
           "diverging": [
            [
             0,
             "#8e0152"
            ],
            [
             0.1,
             "#c51b7d"
            ],
            [
             0.2,
             "#de77ae"
            ],
            [
             0.3,
             "#f1b6da"
            ],
            [
             0.4,
             "#fde0ef"
            ],
            [
             0.5,
             "#f7f7f7"
            ],
            [
             0.6,
             "#e6f5d0"
            ],
            [
             0.7,
             "#b8e186"
            ],
            [
             0.8,
             "#7fbc41"
            ],
            [
             0.9,
             "#4d9221"
            ],
            [
             1,
             "#276419"
            ]
           ],
           "sequential": [
            [
             0,
             "#0d0887"
            ],
            [
             0.1111111111111111,
             "#46039f"
            ],
            [
             0.2222222222222222,
             "#7201a8"
            ],
            [
             0.3333333333333333,
             "#9c179e"
            ],
            [
             0.4444444444444444,
             "#bd3786"
            ],
            [
             0.5555555555555556,
             "#d8576b"
            ],
            [
             0.6666666666666666,
             "#ed7953"
            ],
            [
             0.7777777777777778,
             "#fb9f3a"
            ],
            [
             0.8888888888888888,
             "#fdca26"
            ],
            [
             1,
             "#f0f921"
            ]
           ],
           "sequentialminus": [
            [
             0,
             "#0d0887"
            ],
            [
             0.1111111111111111,
             "#46039f"
            ],
            [
             0.2222222222222222,
             "#7201a8"
            ],
            [
             0.3333333333333333,
             "#9c179e"
            ],
            [
             0.4444444444444444,
             "#bd3786"
            ],
            [
             0.5555555555555556,
             "#d8576b"
            ],
            [
             0.6666666666666666,
             "#ed7953"
            ],
            [
             0.7777777777777778,
             "#fb9f3a"
            ],
            [
             0.8888888888888888,
             "#fdca26"
            ],
            [
             1,
             "#f0f921"
            ]
           ]
          },
          "colorway": [
           "#636efa",
           "#EF553B",
           "#00cc96",
           "#ab63fa",
           "#FFA15A",
           "#19d3f3",
           "#FF6692",
           "#B6E880",
           "#FF97FF",
           "#FECB52"
          ],
          "font": {
           "color": "#2a3f5f"
          },
          "geo": {
           "bgcolor": "white",
           "lakecolor": "white",
           "landcolor": "#E5ECF6",
           "showlakes": true,
           "showland": true,
           "subunitcolor": "white"
          },
          "hoverlabel": {
           "align": "left"
          },
          "hovermode": "closest",
          "mapbox": {
           "style": "light"
          },
          "paper_bgcolor": "white",
          "plot_bgcolor": "#E5ECF6",
          "polar": {
           "angularaxis": {
            "gridcolor": "white",
            "linecolor": "white",
            "ticks": ""
           },
           "bgcolor": "#E5ECF6",
           "radialaxis": {
            "gridcolor": "white",
            "linecolor": "white",
            "ticks": ""
           }
          },
          "scene": {
           "xaxis": {
            "backgroundcolor": "#E5ECF6",
            "gridcolor": "white",
            "gridwidth": 2,
            "linecolor": "white",
            "showbackground": true,
            "ticks": "",
            "zerolinecolor": "white"
           },
           "yaxis": {
            "backgroundcolor": "#E5ECF6",
            "gridcolor": "white",
            "gridwidth": 2,
            "linecolor": "white",
            "showbackground": true,
            "ticks": "",
            "zerolinecolor": "white"
           },
           "zaxis": {
            "backgroundcolor": "#E5ECF6",
            "gridcolor": "white",
            "gridwidth": 2,
            "linecolor": "white",
            "showbackground": true,
            "ticks": "",
            "zerolinecolor": "white"
           }
          },
          "shapedefaults": {
           "line": {
            "color": "#2a3f5f"
           }
          },
          "ternary": {
           "aaxis": {
            "gridcolor": "white",
            "linecolor": "white",
            "ticks": ""
           },
           "baxis": {
            "gridcolor": "white",
            "linecolor": "white",
            "ticks": ""
           },
           "bgcolor": "#E5ECF6",
           "caxis": {
            "gridcolor": "white",
            "linecolor": "white",
            "ticks": ""
           }
          },
          "title": {
           "x": 0.05
          },
          "xaxis": {
           "automargin": true,
           "gridcolor": "white",
           "linecolor": "white",
           "ticks": "",
           "title": {
            "standoff": 15
           },
           "zerolinecolor": "white",
           "zerolinewidth": 2
          },
          "yaxis": {
           "automargin": true,
           "gridcolor": "white",
           "linecolor": "white",
           "ticks": "",
           "title": {
            "standoff": 15
           },
           "zerolinecolor": "white",
           "zerolinewidth": 2
          }
         }
        },
        "title": {
         "text": "🧠 Name Match Type"
        },
        "xaxis": {
         "anchor": "y",
         "categoryarray": [
          "Exact",
          "Mismatch"
         ],
         "categoryorder": "array",
         "domain": [
          0,
          1
         ],
         "title": {
          "text": "NameMatch"
         }
        },
        "yaxis": {
         "anchor": "x",
         "domain": [
          0,
          1
         ],
         "title": {
          "text": "Count"
         }
        }
       }
      },
      "image/png": "[encoded data removed]"
     },
     "metadata": {},
     "output_type": "display_data"
    }
   ],
   "source": [
    "import plotly.express as px\n",
    "import plotly.graph_objects as go\n",
    "\n",
    "# KPI - this one can be enhance following business requirement / data governance\n",
    "total_records = len(df_raw)\n",
    "cleansed_records = len(df_cleaned)\n",
    "duplicates_found = df_raw.duplicated(subset='CompanyName').sum() + df_raw.duplicated(subset='CompanyNumber').sum()\n",
    "matched_count = df_cleaned['MatchedNumber'].notnull().sum()\n",
    "enriched_count = df_cleaned[df_cleaned['MatchedNumber'].notnull() & df_cleaned['URI'].notnull()].shape[0]\n",
    "\n",
    "# Cleansed Records\n",
    "fig1 = px.pie(\n",
    "    names=[\"Cleansed\", \"Removed\"],\n",
    "    values=[cleansed_records, total_records - cleansed_records],\n",
    "    title=\"🧹 Cleansed Records\",\n",
    "    color_discrete_sequence=[\"green\", \"red\"]\n",
    ")\n",
    "fig1.show()\n",
    "\n",
    "# Duplicates Removed\n",
    "fig2 = px.pie(\n",
    "    names=[\"Unique\", \"Duplicates Removed\"],\n",
    "    values=[cleansed_records, duplicates_found],\n",
    "    title=\"📛 Duplicate Records\",\n",
    "    color_discrete_sequence=[\"blue\", \"orange\"]\n",
    ")\n",
    "fig2.show()\n",
    "\n",
    "# API Matching\n",
    "fig3 = px.pie(\n",
    "    names=[\"Matched\", \"Unmatched\"],\n",
    "    values=[matched_count, cleansed_records - matched_count],\n",
    "    title=\"🔍 Matched via Companies House API\",\n",
    "    color_discrete_sequence=[\"green\", \"gray\"]\n",
    ")\n",
    "fig3.show()\n",
    "\n",
    "# Enrichment\n",
    "fig4 = px.pie(\n",
    "    names=[\"Enriched\", \"Not Enriched\"],\n",
    "    values=[enriched_count, total_records - enriched_count],\n",
    "    title=\"✨ Enriched Records\",\n",
    "    color_discrete_sequence=[\"purple\", \"lightgray\"]\n",
    ")\n",
    "fig4.show()\n",
    "\n",
    "# API x Source Matching Bar Chart\n",
    "match_source_counts = df_cleaned['MatchSource'].value_counts().reset_index()\n",
    "match_source_counts.columns = ['MatchSource', 'Count']\n",
    "\n",
    "fig5 = px.bar(\n",
    "    match_source_counts,\n",
    "    x='MatchSource',\n",
    "    y='Count',\n",
    "    color='MatchSource',\n",
    "    title=\"🔍 Match Source Distribution\",\n",
    "    text='Count'\n",
    ")\n",
    "fig5.update_traces(textposition='outside')\n",
    "fig5.show()\n",
    "\n",
    "# Name Match Analysis\n",
    "name_match_counts = df_cleaned['NameMatch'].value_counts().reset_index()\n",
    "name_match_counts.columns = ['NameMatch', 'Count']\n",
    "\n",
    "fig6 = px.bar(\n",
    "    name_match_counts,\n",
    "    x='NameMatch',\n",
    "    y='Count',\n",
    "    color='NameMatch',\n",
    "    title=\"🧠 Name Match Type\",\n",
    "    text='Count'\n",
    ")\n",
    "fig6.update_traces(textposition='outside')\n",
    "fig6.show()\n"
   ]
  },
  {
   "cell_type": "markdown",
   "id": "948c21e7",
   "metadata": {},
   "source": [
    "## 8. Findings Summary\n",
    "Summary of findings from all stages in scope."
   ]
  },
  {
   "cell_type": "code",
   "execution_count": 8,
   "id": "74832895",
   "metadata": {},
   "outputs": [
    {
     "name": "stdout",
     "output_type": "stream",
     "text": [
      "📊 Summary:\n",
      "- Original Records         : 307\n",
      "- After Cleansing          : 306\n",
      "- Duplicates Removed       : 23 (Company Name: 7, Company Number: 16)\n",
      "- Matched Records          : 306\n",
      "- Enriched Records         : 306\n"
     ]
    }
   ],
   "source": [
    "# Count duplicates in CompanyName and CompanyNumber\n",
    "duplicate_name_count = df_cleaned.duplicated(subset='CompanyName').sum()\n",
    "duplicate_number_count = df_cleaned.duplicated(subset='CompanyNumber').sum()\n",
    "duplicate_records = duplicate_name_count + duplicate_number_count\n",
    "matched_records = df_cleaned['MatchedNumber'].notnull().sum()\n",
    "enriched_records = matched_records\n",
    "\n",
    "print(\"📊 Summary:\")\n",
    "print(f\"- Original Records         : {total_records}\")\n",
    "print(f\"- After Cleansing          : {cleansed_records}\")\n",
    "print(f\"- Duplicates Removed       : {duplicate_records} (Company Name: {duplicate_name_count}, Company Number: {duplicate_number_count})\")\n",
    "print(f\"- Matched Records          : {matched_records}\")\n",
    "print(f\"- Enriched Records         : {enriched_records}\")"
   ]
  }
 ],
 "metadata": {
  "kernelspec": {
   "display_name": "Python 3 (ipykernel)",
   "language": "python",
   "name": "python3"
  },
  "language_info": {
   "codemirror_mode": {
    "name": "ipython",
    "version": 3
   },
   "file_extension": ".py",
   "mimetype": "text/x-python",
   "name": "python",
   "nbconvert_exporter": "python",
   "pygments_lexer": "ipython3",
   "version": "3.13.5"
  }
 },
 "nbformat": 4,
 "nbformat_minor": 5
}
